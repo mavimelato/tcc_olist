{
 "cells": [
  {
   "cell_type": "markdown",
   "id": "79da1d97-7bd2-42c9-83a0-99768a4ccdd2",
   "metadata": {},
   "source": [
    "# Conjunto de Dados Públicos de E-Commerce Brasileiro da Olist"
   ]
  },
  {
   "cell_type": "markdown",
   "id": "53ee0331-ca3e-490d-bfe5-e7b8af987e12",
   "metadata": {},
   "source": [
    "## Descrição da empresa e seu problema\n",
    "\n",
    "A Olist é a maior loja de departamentos nos marketplaces brasileiros, conectando pequenos comerciantes a diversos canais de vendas. A empresa gerencia um grande volume de dados de pedidos, abrangendo várias dimensões como status do pedido, preço, pagamento, desempenho do frete, localização dos clientes, atributos dos produtos e avaliações dos clientes.\n",
    "\n",
    "Depois que um cliente compra o produto na Olist Store, um vendedor é notificado para atender a esse pedido. Uma vez que o cliente recebe o produto, ou a data de entrega estimada é devida, o cliente recebe uma pesquisa de satisfação por e-mail, onde ele pode dar uma nota para a experiência de compra e escrever alguns comentários.\n",
    "\n",
    "A Olist enfrenta desafios em compreender as necessidades dos clientes e melhorar continuamente seus serviços e produtos, por isso é necessário uma análise detalhada dos dados para desenvolver estratégias para melhorar a experiência do cliente."
   ]
  },
  {
   "cell_type": "markdown",
   "id": "c5879014-90cf-49d7-8b99-bf7535bc597e",
   "metadata": {},
   "source": [
    "## Descrição do Objetivo da Análise\n",
    "\n",
    "*   Explorar os dados de pedidos, clientes, produtos e avaliações para identificar padrões e tendências.\n",
    "*   Determinar fatores que afetam a precificação dos produtos.\n",
    "*   Propor estratégias de precificação baseadas nos insights obtidos.\n",
    "*   Fornecer informações e recomendações para a equipe de gestão da Olist tomar decisões informadas sobre precificação e melhoria de experiência do cliente."
   ]
  },
  {
   "cell_type": "markdown",
   "id": "f7e59a8e-04bd-4f9b-be3c-32d5a03be151",
   "metadata": {},
   "source": [
    "## 0. Importações"
   ]
  },
  {
   "cell_type": "markdown",
   "id": "22f0a3db-62ef-492b-b234-4416597c2057",
   "metadata": {},
   "source": [
    "### 0.1 Bibliotecas "
   ]
  },
  {
   "cell_type": "code",
   "execution_count": null,
   "id": "0b5fc31e-408f-4c7a-905f-00df7b057dcc",
   "metadata": {},
   "outputs": [],
   "source": [
    "pip install --upgrade category_encoders"
   ]
  },
  {
   "cell_type": "code",
   "execution_count": null,
   "id": "9a587647-120a-4c32-9819-11d416ab161e",
   "metadata": {},
   "outputs": [],
   "source": [
    "pip install -U kaleido"
   ]
  },
  {
   "cell_type": "code",
   "execution_count": null,
   "id": "65480aad-f95c-4b20-b80c-71cdc221767b",
   "metadata": {},
   "outputs": [],
   "source": [
    "pip install pandas plotly"
   ]
  },
  {
   "cell_type": "code",
   "execution_count": null,
   "id": "71d6a058-8006-4027-ab95-d5d5f9f40043",
   "metadata": {},
   "outputs": [],
   "source": [
    "pip install geopandas"
   ]
  },
  {
   "cell_type": "code",
   "execution_count": null,
   "id": "e27c69c9-0914-4058-9a93-60431e9ecfb5",
   "metadata": {},
   "outputs": [],
   "source": [
    "import nltk\n",
    "nltk.download('punkt')"
   ]
  },
  {
   "cell_type": "code",
   "execution_count": null,
   "id": "3edcf0b8-6a16-461c-b0a6-eb7f085efca9",
   "metadata": {},
   "outputs": [],
   "source": [
    "pip install wordcloud "
   ]
  },
  {
   "cell_type": "code",
   "execution_count": 11,
   "id": "06794f9d-4386-4e6d-991f-5baea1c43566",
   "metadata": {},
   "outputs": [],
   "source": [
    "### Manipulação e tratamento de dados\n",
    "import pandas as pd\n",
    "import numpy as np\n",
    "import datetime \n",
    "from datetime import date\n",
    "import re\n",
    "import warnings\n",
    "import lxml\n",
    "import inflection\n",
    "\n",
    "### Visualização de dados\n",
    "import seaborn as sns\n",
    "import matplotlib as mpl\n",
    "import matplotlib.pyplot as plt\n",
    "import plotly.express as px\n",
    "import plotly.graph_objects as go\n",
    "from PIL import Image\n",
    "from wordcloud import WordCloud\n",
    "\n",
    "### Geolocalização e visualização de mapas\n",
    "import geopandas as gpd\n",
    "import folium\n",
    "from folium import Choropleth, Circle, Marker\n",
    "from folium.plugins import HeatMap, MarkerCluster, FastMarkerCluster\n",
    "\n",
    "### Feature Engineering e Pré-processamento\n",
    "from sklearn.preprocessing import OrdinalEncoder, LabelEncoder, StandardScaler, MinMaxScaler, RobustScaler, FunctionTransformer\n",
    "from sklearn.impute import KNNImputer\n",
    "from sklearn.compose import ColumnTransformer\n",
    "from category_encoders import TargetEncoder, CatBoostEncoder\n",
    "\n",
    "### Outras bibliotecas importantes\n",
    "from collections import Counter\n",
    "from nltk.corpus import stopwords"
   ]
  },
  {
   "cell_type": "code",
   "execution_count": 12,
   "id": "55e64f60-3995-4ed2-8092-0e23d21ca000",
   "metadata": {
    "scrolled": true
   },
   "outputs": [],
   "source": [
    "### Ignoring warnings\n",
    "warnings.filterwarnings('ignore')\n",
    "\n",
    "### Pandas Settings\n",
    "pd.set_option('display.float_format', lambda x: '%.3f' % x)\n",
    "pd.set_option('display.max_columns', None)\n",
    "\n",
    "### Random Seed\n",
    "SEED = 42\n",
    "\n",
    "### Palette Seting\n",
    "custom_palette = ['#001C5B', '#E64E36', '#ff82cd', '#0A4EE4', '#779E3D', '#f0a028']\n",
    "px.defaults.color_discrete_sequence = custom_palette"
   ]
  },
  {
   "cell_type": "markdown",
   "id": "af447d63-1da5-4426-b02b-2806f9128153",
   "metadata": {},
   "source": [
    "### 0.2 Carregando os dados  "
   ]
  },
  {
   "cell_type": "code",
   "execution_count": 13,
   "id": "a54386aa-2590-4c5f-8c3b-ea6cb1e11bd4",
   "metadata": {},
   "outputs": [],
   "source": [
    "# Carrega os datasets\n",
    "base_path = r'C:\\Users\\Rubeus\\Documents\\tcc\\data'\n",
    "\n",
    "order_items = pd.read_csv(f'{base_path}\\olist_order_items_dataset.csv')\n",
    "orders = pd.read_csv(f'{base_path}\\olist_orders_dataset.csv')\n",
    "payments = pd.read_csv(f'{base_path}\\olist_order_payments_dataset.csv')\n",
    "products = pd.read_csv(f'{base_path}\\olist_products_dataset.csv')\n",
    "customers = pd.read_csv(f'{base_path}\\olist_customers_dataset.csv')\n",
    "sellers = pd.read_csv(f'{base_path}\\olist_sellers_dataset.csv')\n",
    "product_category = pd.read_csv(f'{base_path}\\product_category_name_translation.csv')\n",
    "geolocation = pd.read_csv(f'{base_path}\\olist_geolocation_dataset.csv')\n",
    "reviews = pd.read_csv(f'{base_path}\\olist_order_reviews_dataset.csv')\n",
    "\n",
    "# Juntando os dados principais do pedido\n",
    "df = order_items.merge(orders, on='order_id') \\\n",
    "                .merge(payments, on='order_id') \\\n",
    "                .merge(products, on='product_id') \\\n",
    "                .merge(customers, on='customer_id') \\\n",
    "                .merge(sellers, on='seller_id') \\\n",
    "                .merge(product_category, on='product_category_name') \\\n",
    "                .merge(reviews, on='order_id', how='inner')"
   ]
  },
  {
   "cell_type": "code",
   "execution_count": 14,
   "id": "16424a06-29d7-4895-b822-7eb9a2612727",
   "metadata": {},
   "outputs": [],
   "source": [
    "#df.to_csv('df_merged.csv', index=False)"
   ]
  },
  {
   "cell_type": "markdown",
   "id": "e3593930-5dd0-4c26-bd82-20aa7e5a2f92",
   "metadata": {},
   "source": [
    "## 1. Descrição dos dados"
   ]
  },
  {
   "cell_type": "code",
   "execution_count": null,
   "id": "51fe6bf2-0d17-4ec3-af8c-17868bdfd7e5",
   "metadata": {},
   "outputs": [],
   "source": [
    "df.head()"
   ]
  },
  {
   "cell_type": "code",
   "execution_count": null,
   "id": "5a43c092-1811-486f-8ba5-8f203ad7e775",
   "metadata": {},
   "outputs": [],
   "source": [
    "geolocation.head()"
   ]
  },
  {
   "cell_type": "markdown",
   "id": "8f841f98-11bc-405a-ac1d-09c8487de98e",
   "metadata": {},
   "source": [
    "### 1.1 Dimensão dos dados"
   ]
  },
  {
   "cell_type": "code",
   "execution_count": null,
   "id": "87a04b09-f299-4649-b9a4-b3eaa8aac37d",
   "metadata": {},
   "outputs": [],
   "source": [
    "df.shape"
   ]
  },
  {
   "cell_type": "code",
   "execution_count": null,
   "id": "8424d9b3-2850-4a5c-a937-aac98715f140",
   "metadata": {},
   "outputs": [],
   "source": [
    "geolocation.shape"
   ]
  },
  {
   "cell_type": "markdown",
   "id": "c631f08a-32ee-4820-ad0c-0afb0b8ff127",
   "metadata": {},
   "source": [
    "### 1.2 Colunas"
   ]
  },
  {
   "cell_type": "markdown",
   "id": "a0e5f7d6-ef54-4f8e-8538-308889c79742",
   "metadata": {},
   "source": [
    "#### 1.2.1 Colunas do Dataset (df)"
   ]
  },
  {
   "cell_type": "markdown",
   "id": "c0aa31e4-eaae-46f3-9d92-0841a646dbcb",
   "metadata": {},
   "source": [
    "| Nome da Coluna                   | Descrição                                                                                      |\n",
    "|----------------------------------|------------------------------------------------------------------------------------------------|\n",
    "| order_id                         | Identificador único do pedido.                                                                 |\n",
    "| customer_id                      | Chave para o conjunto de dados dos clientes. Cada pedido tem um customer_id único.            |\n",
    "| order_status                     | Referência ao status do pedido (entregue, enviado, etc).                                        |\n",
    "| order_purchase_timestamp         | Mostra o momento da compra.                                                                    |\n",
    "| order_approved_at                | Mostra o momento da aprovação do pagamento.                                                    |\n",
    "| order_delivered_carrier_date     | Mostra a data em que o pedido foi encaminhado ao parceiro logístico.                          |\n",
    "| order_delivered_customer_date    | Mostra a data de entrega real do pedido ao cliente.                                            |\n",
    "| order_estimated_delivery_date    | Mostra a data de entrega estimada que foi informada ao cliente no momento da compra.           |\n",
    "| customer_unique_id               | Identificador único de um cliente.                                                             |\n",
    "| customer_zip_code_prefix         | Os primeiros cinco dígitos do CEP do cliente.                                                  |\n",
    "| customer_city                    | Nome da cidade do cliente.                                                                     |\n",
    "| customer_state                   | Estado do cliente.                                                                             |\n",
    "| order_item_id                    | Número sequencial que identifica o número de itens incluídos no mesmo pedido.                   |\n",
    "| product_id                       | Identificador único do produto.                                                                |\n",
    "| seller_id                        | Identificador único do vendedor.                                                               |\n",
    "| shipping_limit_date              | Mostra a data limite de envio do vendedor para entregar o pedido ao parceiro logístico.        |\n",
    "| price                            | Preço do item.                                                                                 |\n",
    "| freight_value                    | Valor do frete do item (se um pedido tiver mais de um item, o valor do frete é dividido).      |\n",
    "| payment_sequential               | Um cliente pode pagar um pedido com mais de um método de pagamento.                            |\n",
    "| payment_type                     | Método de pagamento escolhido pelo cliente.                                                     |\n",
    "| payment_installments             | Número de parcelas escolhidas pelo cliente.                                                     |\n",
    "| payment_value                    | Valor da transação.                                                                           |\n",
    "| product_category_name            | Categoria raiz do produto, em português.                                                        |\n",
    "| product_name_lenght              | Número de caracteres extraídos do nome do produto.                                              |\n",
    "| product_description_lenght       | Número de caracteres extraídos da descrição do produto.                                         |\n",
    "| product_photos_qty               | Número de fotos publicadas do produto.                                                          |\n",
    "| product_weight_g                 | Peso do produto medido em gramas.                                                              |\n",
    "| product_length_cm                | Comprimento do produto medido em centímetros.                                                   |\n",
    "| product_height_cm                | Altura do produto medida em centímetros.                                                        |\n",
    "| product_width_cm                 | Largura do produto medida em centímetros.                                                       |\n",
    "| seller_zip_code_prefix           | Os primeiros 5 dígitos do CEP do vendedor.                                                      |\n",
    "| seller_city                      | Nome da cidade do vendedor.                                                                    |\n",
    "| seller_state                     | Estado do vendedor.                                                                            |\n",
    "| product_category_name_english    | Nome da categoria em inglês.                                                                   |\n",
    "| review_id                        | Identificador único da avaliação.                                                               |\n",
    "| review_score                     | Nota variando de 1 a 5 dada pelo cliente em uma pesquisa de satisfação.                          |\n",
    "| review_comment_title            | Título do comentário da avaliação deixada pelo cliente, em português.                          |\n",
    "| review_comment_message          | Mensagem do comentário da avaliação deixada pelo cliente, em português.                        |\n",
    "| review_creation_date            | Mostra a data em que a pesquisa de satisfação foi enviada ao cliente.                          |\n",
    "| review_answer_timestamp         | Mostra o momento em que a pesquisa de satisfação foi respondida.                               |"
   ]
  },
  {
   "cell_type": "markdown",
   "id": "5f3b5a91-8fef-4b63-a4dd-7b6ae1f6ad9d",
   "metadata": {},
   "source": [
    "#### 1.2.2 Colunas do Dataset geolocation"
   ]
  },
  {
   "cell_type": "markdown",
   "id": "b7dd1eee-40db-48c2-90e8-3cf83aa821cf",
   "metadata": {},
   "source": [
    "| Nome da coluna               | Descrição                                       |\n",
    "|------------------------------|-------------------------------------------------|\n",
    "| geolocation_zip_code_prefix  | Os primeiros 5 dígitos do CEP.                  |\n",
    "| geolocation_lat              | Latitude.                                       |\n",
    "| geolocation_lng              | Longitude.                                      |\n",
    "| geolocation_city             | Nome da cidade.                                 |\n",
    "| geolocation_state            | Estado.                                        |"
   ]
  },
  {
   "cell_type": "markdown",
   "id": "0d186ec2-65cd-4dc6-a5e5-c1dfb2ac774e",
   "metadata": {},
   "source": [
    "### 1.3 Tipos dos dados"
   ]
  },
  {
   "cell_type": "code",
   "execution_count": null,
   "id": "7260ef93-aa7a-4e2d-9e7d-59c52227a0ed",
   "metadata": {},
   "outputs": [],
   "source": [
    "# Dataset principal\n",
    "df.info()"
   ]
  },
  {
   "cell_type": "code",
   "execution_count": null,
   "id": "df900230-a41b-44fb-a2fd-cce20690cf99",
   "metadata": {},
   "outputs": [],
   "source": [
    "# Dataset geolocalização \n",
    "geolocation.info()"
   ]
  },
  {
   "cell_type": "markdown",
   "id": "a267d59d-2b4a-4f50-b7cf-9213699bac0c",
   "metadata": {},
   "source": [
    "## 2. Pré-processamento de dados"
   ]
  },
  {
   "cell_type": "markdown",
   "id": "934d7bba-b0fc-48e4-a1fa-55b5d495d9ca",
   "metadata": {},
   "source": [
    "### 2.1 Date Features"
   ]
  },
  {
   "cell_type": "code",
   "execution_count": 21,
   "id": "f75b71f3-f184-4549-b8eb-00fdc61d37a0",
   "metadata": {},
   "outputs": [],
   "source": [
    "# Colunas com variaveis de data \n",
    "datetime_columns = ['order_purchase_timestamp',\n",
    "                    'order_approved_at',\n",
    "                    'order_delivered_carrier_date',\n",
    "                    'order_delivered_customer_date',\n",
    "                    'shipping_limit_date',\n",
    "                    'review_creation_date',\n",
    "                    'review_answer_timestamp']\n",
    "\n",
    "# Convertendo as colunas para datetime, ignorando dados nulos\n",
    "df[datetime_columns] = df[datetime_columns].apply(pd.to_datetime, errors='coerce')"
   ]
  },
  {
   "cell_type": "code",
   "execution_count": null,
   "id": "a2354109-fc4b-4fbc-9836-23021bc617dd",
   "metadata": {},
   "outputs": [],
   "source": [
    "# O parametro errors='coerce'  é usado para substituir dados nulos por NaT (not a time)\n",
    "date_null = df.loc[df['order_delivered_carrier_date'].isnull(), :]\n",
    "date_null.loc[date_null['order_status'] == 'delivered', :]"
   ]
  },
  {
   "cell_type": "markdown",
   "id": "55ea779f-03aa-405f-8ecf-a5bd4be4df2e",
   "metadata": {},
   "source": [
    "* Os valores ausentes em `delivered_customer_date` estão relacionados a pedidos que ainda não foram entregues."
   ]
  },
  {
   "cell_type": "markdown",
   "id": "a9ebf8f4-36d6-4d20-a6cc-17ea0812a102",
   "metadata": {},
   "source": [
    "### 2.2 Detalhando as variáveis de data e hora"
   ]
  },
  {
   "cell_type": "markdown",
   "id": "5ddb6e4d-9ea6-463e-ab61-12a0049c6039",
   "metadata": {},
   "source": [
    "- Quero calcular a diferença de tempo entre o momento da compra do pedido, o momento da aprovação do pedido e o momento da entrega"
   ]
  },
  {
   "cell_type": "code",
   "execution_count": 23,
   "id": "0850ae48-841a-4416-b293-fc79b0f5cdd2",
   "metadata": {},
   "outputs": [],
   "source": [
    "# Tempo entre a aprovação do pedido e a entrega\n",
    "df['delivery_time'] = df['order_delivered_customer_date'] - df['order_approved_at']\n",
    "\n",
    "# Convertendo para um formato mais legível (horas)\n",
    "df['delivery_time_in_hours'] = df['delivery_time'] / pd.Timedelta(hours=1)"
   ]
  },
  {
   "cell_type": "markdown",
   "id": "aa6a6989-2b2e-4abd-b00c-11bfefa98ddb",
   "metadata": {},
   "source": [
    "- Considerando o momento da compra do pedido, vou criar campos adicionais para analisar tendências sazonais e padrões de comportamento de compra ao longo do ano, semana e dias da semana."
   ]
  },
  {
   "cell_type": "code",
   "execution_count": 24,
   "id": "86630b6e-2021-4eee-bbaf-4313bb6bc00c",
   "metadata": {},
   "outputs": [],
   "source": [
    "# Criando novas colunas\n",
    "df['day']        = df['order_purchase_timestamp'].dt.day # Dia\n",
    "df['month']      = df['order_purchase_timestamp'].dt.month # Mês\n",
    "df['year']       = df['order_purchase_timestamp'].dt.year # Ano\n",
    "df['dayofweek']  = df['order_purchase_timestamp'].dt.dayofweek # Dia da semana\n",
    "df['weekofyear'] = df['order_purchase_timestamp'].dt.isocalendar().week # Semana do ano\n",
    "\n",
    "# Coluna apenas com o dia, mês e ano\n",
    "df['day_month_year'] = df['order_purchase_timestamp'].dt.strftime('%d-%m-%Y')\n",
    "df['day_month_year'] = pd.to_datetime(df['day_month_year'], format='%d-%m-%Y')"
   ]
  },
  {
   "cell_type": "markdown",
   "id": "dd53751e-a7f7-43e5-9155-1963ae66f792",
   "metadata": {},
   "source": [
    "### 2.3 Novas colunas"
   ]
  },
  {
   "cell_type": "markdown",
   "id": "8e5083ce-eab5-4c81-9b26-0fd44339268b",
   "metadata": {},
   "source": [
    "- Já que a coluna `dayofweek` indica o dia da semana com números de 0 a 6, vou criar uma nova coluna com o nome do dia correspondente para facilitar a interpretação em gráficos e análises visuais."
   ]
  },
  {
   "cell_type": "code",
   "execution_count": 25,
   "id": "ab619ec8-1b8a-4c2a-8516-103ed99352b0",
   "metadata": {},
   "outputs": [],
   "source": [
    "# Criando dicionário para dia da semana\n",
    "mapping = {\n",
    "    0: 'Monday',\n",
    "    1: 'Tuesday',\n",
    "    2: 'Wednesday',\n",
    "    3: 'Thursday',\n",
    "    4: 'Friday',\n",
    "    5: 'Saturday',\n",
    "    6: 'Sunday'}\n",
    "\n",
    "# Mapping - nome do dia por número\n",
    "df['name_dayofweek'] = df['dayofweek'].map(mapping)"
   ]
  },
  {
   "cell_type": "markdown",
   "id": "83ca4f11-3bc5-4e51-b205-ee932e885023",
   "metadata": {},
   "source": [
    "- Ainda pensando em facilitar a visualização, vou criar colunas de Região."
   ]
  },
  {
   "cell_type": "code",
   "execution_count": 26,
   "id": "8ea0d822-a818-408b-8ae1-312a80d88b2e",
   "metadata": {},
   "outputs": [],
   "source": [
    "# Criar um dicionário para as regiões \n",
    "mapping = {\n",
    "    'Norte': ['AC', 'AM', 'AP', 'PA', 'RO', 'RR', 'TO'],\n",
    "    'Nordeste': ['AL', 'BA', 'CE', 'MA', 'PB', 'PE', 'PI', 'RN', 'SE'],\n",
    "    'Sudeste': ['ES', 'MG', 'RJ', 'SP'],\n",
    "    'Centro-Oeste': ['DF', 'GO', 'MS', 'MT'],\n",
    "    'Sul': ['PR', 'RS', 'SC']}\n",
    "\n",
    "# Mapeando os estados por região \n",
    "df['customer_region'] = df['customer_state'].map({state: region for region, states in mapping.items() for state in states})"
   ]
  },
  {
   "cell_type": "markdown",
   "id": "351db3a6-f598-403c-b57b-ad9ba10b7ebc",
   "metadata": {},
   "source": [
    "### 2.4 Descrevendo os dados "
   ]
  },
  {
   "cell_type": "code",
   "execution_count": null,
   "id": "84933999-48bc-49af-9050-59276945d6bd",
   "metadata": {},
   "outputs": [],
   "source": [
    "df.describe().T"
   ]
  },
  {
   "cell_type": "markdown",
   "id": "95dfb4cb-c739-4b84-ba91-7f3a19470a4d",
   "metadata": {},
   "source": [
    "A partir dos resultados do describe, podemos observar alguns insights importantes sobre o conjunto de dados:\n",
    "\n",
    "- `price:` O preço médio dos produtos é aproximadamente 120 reais, com alta variabilidade (desvio padrão de 184). A maioria dos pedidos (75%) tem preços até 134,90, mas há outliers, como 6735,00.\n",
    "- `freight_value:` O valor médio do frete é cerca de 20 reais, com alguns pedidos tendo frete grátis (valor de 0) e outros com custos mais elevados, até 409 reais.\n",
    "- `payment_value:` A média do valor total pago pelos clientes é aproximadamente 173 reais, com casos extremos chegando a 13664 reais.\n",
    "- `payment_installments:` Em média, os pedidos são parcelados em cerca de 3 vezes, com um máximo de 24 parcelas.\n",
    "- `review_score:` Média de 4.034, indicando que as avaliações dos clientes são, em média, positivas.\n",
    "- `delivery_time` O tempo médio de entrega é de 12 dias."
   ]
  },
  {
   "cell_type": "markdown",
   "id": "652bedec-d490-46cd-b54b-16160f477e9f",
   "metadata": {},
   "source": [
    "### 2.5 Verificando valores nulos"
   ]
  },
  {
   "cell_type": "code",
   "execution_count": null,
   "id": "d5a846f7-351d-4e5a-b4f9-dcfeb2bc2eb2",
   "metadata": {},
   "outputs": [],
   "source": [
    "# Criando um dicionário para armazenar as contagens de valores nulos e porcentagens\n",
    "null_info = {'Coluna': [], 'Valores Nulos': [], '% de Nulos': []}\n",
    "\n",
    "# Iterando sobre as colunas do DataFrame\n",
    "for col in df.columns:\n",
    "    null_count = df[col].isna().sum()\n",
    "    null_percentage = (null_count / len(df)) * 100\n",
    "    \n",
    "    # Adicionando os dados ao dicionário\n",
    "    null_info['Coluna'].append(col)\n",
    "    null_info['Valores Nulos'].append(null_count)\n",
    "    null_info['% de Nulos'].append(null_percentage)\n",
    "\n",
    "# Criando um DataFrame com os resultados\n",
    "null_values = pd.DataFrame(null_info)\n",
    "\n",
    "# Ordenando os valores nulos em ordem decrescente\n",
    "null_values = null_values.sort_values(by='Valores Nulos', ascending=False)\n",
    "\n",
    "# Exibindo os valores nulos\n",
    "print(null_values)"
   ]
  },
  {
   "cell_type": "markdown",
   "id": "6e30396f-1a46-4083-9e66-fbc67c57b431",
   "metadata": {},
   "source": [
    "- `review_comment_title` (88.06%) e `review_comment_message` (57.70%) têm um percentual muito alto de valores nulos. Isso indica que muitos pedidos não têm comentários ou que esses campos não foram preenchidos pelos clientes.\n",
    "\n",
    "- O restante dos dados possui um percentual médio de 2% de dados nulos, o que não é um número muito alto."
   ]
  },
  {
   "cell_type": "markdown",
   "id": "694ed0d0-f345-4b58-a9cc-0ba398a199f9",
   "metadata": {},
   "source": [
    "### 2.6 Dados categóricos "
   ]
  },
  {
   "cell_type": "markdown",
   "id": "3c17d2a8-ebe8-4566-85f6-4ba0130f17cf",
   "metadata": {},
   "source": [
    "- Mostrando os atributos categóricos no conjunto de dados e quantos valores únicos cada um possui."
   ]
  },
  {
   "cell_type": "code",
   "execution_count": null,
   "id": "c466558c-a60d-4bc0-933f-0ea33631850d",
   "metadata": {},
   "outputs": [],
   "source": [
    "# Selecionando atributos categóricos\n",
    "cat_attributes = df.select_dtypes(include=['object'])\n",
    "\n",
    "# Contagem de valores únicos\n",
    "unique_counts = cat_attributes.nunique()\n",
    "\n",
    "# Exibindo os resultados\n",
    "print(unique_counts)"
   ]
  },
  {
   "cell_type": "code",
   "execution_count": null,
   "id": "7361dcbb-7f73-41d2-a04f-960d5111d342",
   "metadata": {},
   "outputs": [],
   "source": [
    "# Exibindo os valores únicos de 'payment_type'\n",
    "print('Tipos de pagamentos:')\n",
    "print(df.payment_type.unique())\n",
    "print()\n",
    "\n",
    "# Exibindo os valores únicos de 'order_status'\n",
    "print('Status:')\n",
    "print(df.order_status.unique())\n",
    "print()\n",
    "\n",
    "# Exibindo os valores únicos de 'product_category'\n",
    "print('Categorias:')\n",
    "print(df.product_category_name.unique())\n",
    "print()"
   ]
  },
  {
   "cell_type": "code",
   "execution_count": null,
   "id": "1fcde655-8dc7-4ee1-b7e2-9a73928782fd",
   "metadata": {},
   "outputs": [],
   "source": [
    "df.head()"
   ]
  },
  {
   "cell_type": "code",
   "execution_count": 32,
   "id": "83930c41",
   "metadata": {},
   "outputs": [],
   "source": [
    "df.to_csv('df_preprocessed.csv', index=False)"
   ]
  },
  {
   "cell_type": "markdown",
   "id": "1acb0d1e-a30b-4b55-8d90-b2ab5cbd6fb5",
   "metadata": {},
   "source": [
    "## 3. Análise Explatória de Dados (EDA) "
   ]
  },
  {
   "cell_type": "markdown",
   "id": "066d7c29-1b31-4868-b45e-a25da9f8e047",
   "metadata": {},
   "source": [
    "### 3.1 Análise dos pedidos "
   ]
  },
  {
   "cell_type": "markdown",
   "id": "062f1b41-6018-4a81-a0d7-c9e25492d87e",
   "metadata": {},
   "source": [
    "#### 3.1.1 Como o número de pedidos muda ao longo do tempo? Qual dia teve o maior número de pedidos?"
   ]
  },
  {
   "cell_type": "code",
   "execution_count": null,
   "id": "7599edd1-2ed6-4c0b-ac4c-4188d6ef5d26",
   "metadata": {},
   "outputs": [],
   "source": [
    "# Manipulação de Dados - Criando um DataFrame agrupado\n",
    "df_aux = df[['day_month_year', 'order_id']].groupby(['day_month_year']).count().reset_index()\n",
    "\n",
    "# Criando o gráfico interativo\n",
    "fig_11 = px.bar(df_aux, x='day_month_year', y='order_id')\n",
    "\n",
    "# Personalizando o gráfico usando Plotly\n",
    "fig_11.update_layout(\n",
    "    title='Número de Pedidos por Dia',       # Título do gráfico\n",
    "    xaxis_title='Dia',                        # Rótulo do eixo X\n",
    "    yaxis_title='Número de Pedidos',          # Rótulo do eixo Y\n",
    "    title_x=0.5                               # Centraliza o título do gráfico\n",
    ")\n",
    "\n",
    "# Exibindo o gráfico interativo\n",
    "fig_11.show()\n",
    "\n",
    "# Salvando o gráfico como uma imagem PNG\n",
    "fig_11.write_image('C:/Users/Rubeus/Documents/tcc/images/fig_11.png', width=1200, height=600, scale=3)"
   ]
  },
  {
   "cell_type": "markdown",
   "id": "a9ba3556-701b-4dfb-b5a1-939efb371962",
   "metadata": {},
   "source": [
    "* O maior número de pedidos foi em novembro de 2017. Esse dia foi a Black Friday daquele ano, que é um dos dias de maior venda do ano."
   ]
  },
  {
   "cell_type": "markdown",
   "id": "fbe96ef1-6c3d-441a-9461-3ef31fc5aa51",
   "metadata": {},
   "source": [
    "#### 3.1.2 Como o número de pedidos varia por região? Existe alguma região que tenha mais pedidos em um determinado período?"
   ]
  },
  {
   "cell_type": "code",
   "execution_count": null,
   "id": "38810fba-db30-437e-a267-572196a0a9cc",
   "metadata": {
    "scrolled": true
   },
   "outputs": [],
   "source": [
    "# Manipulação de Dados - Criando um dataframe agrupado\n",
    "df_aux = df[['day_month_year', 'order_id', 'customer_region']].groupby(['day_month_year', 'customer_region']).count().reset_index()\n",
    "\n",
    "# Selecionando dados de 2018\n",
    "df_aux = df_aux.loc[df_aux['day_month_year'] >= '2018-01-01']\n",
    "\n",
    "fig_12 = px.line(df_aux, x='day_month_year', y='order_id', color='customer_region', title='Número de Pedidos por Dia e por Região')\n",
    "fig_12.update_layout(\n",
    "    xaxis_title='Dia',\n",
    "    yaxis_title='Número de Pedidos',\n",
    "    title_x=0.5\n",
    ")\n",
    "\n",
    "# Exibindo a figura interativa\n",
    "fig_12.show()\n",
    "\n",
    "# Salvando o gráfico como uma imagem PNG\n",
    "fig_12.write_image('C:/Users/Rubeus/Documents/tcc/images/fig_12.png', width=1200, height=700, scale=3)"
   ]
  },
  {
   "cell_type": "markdown",
   "id": "e968b24a-087f-4bb0-9a60-01d18ac23c4c",
   "metadata": {},
   "source": [
    "* O gráfico contém apenas os dados de 2018. O número de pedidos é maior na região Sudeste ao longo de todo o ano e não há uma diferença significativa em seus valores ao longo do tempo.\n",
    "\n",
    "* O número de pedidos aumenta e diminui, mas a proporção de pedidos entre as regiões é quase a mesma."
   ]
  },
  {
   "cell_type": "markdown",
   "id": "d4601959-9394-4295-b549-840ad425981b",
   "metadata": {},
   "source": [
    "#### 3.1.3 Números de pedidos por tipo de pagamento "
   ]
  },
  {
   "cell_type": "code",
   "execution_count": null,
   "id": "35b69902-a7ee-4b6b-88e6-293b96c1cd85",
   "metadata": {},
   "outputs": [],
   "source": [
    "# Manipulação de Dados - Criando um DataFrame agrupado\n",
    "df_aux = df[['payment_type', 'order_id']].groupby(['payment_type']).count().reset_index()\n",
    "df_aux.sort_values('order_id', ascending=False, inplace=True)\n",
    "\n",
    "# Criando o gráfico interativo\n",
    "fig_13 = px.bar(df_aux, x='payment_type', y='order_id', text_auto=True, color='payment_type')\n",
    "\n",
    "# Personalizando o gráfico\n",
    "fig_13.update_layout(\n",
    "    title='Número de Pedidos por Tipo de Pagamento',  # Título do gráfico\n",
    "    xaxis_title='Tipo de Pagamento',                  # Rótulo do eixo X\n",
    "    yaxis_title='Número de Pedidos',                  # Rótulo do eixo Y\n",
    "    title_x=0.5,                                     # Centraliza o título do gráfico\n",
    "    xaxis_tickangle=-45                             # Inclina os rótulos do eixo X para melhor leitura\n",
    ")\n",
    "\n",
    "# Exibindo o gráfico interativo\n",
    "fig_13.show()\n",
    "\n",
    "# Salvando o gráfico como uma imagem PNG\n",
    "fig_13.write_image('C:/Users/Rubeus/Documents/tcc/images/fig_13.png', width=1200, height=600, scale=3)"
   ]
  },
  {
   "cell_type": "markdown",
   "id": "fd467e57-8143-43dc-a002-f8533f28d539",
   "metadata": {},
   "source": [
    "* O Cartão de Crédito é o tipo de pagamento mais utilizado no conjunto de dados. Em segundo lugar, o boleto, representa cerca de 1/4 do volume de pagamentos com cartão de crédito. O Vale é o terceiro, e o Cartão de Débito é o quarto."
   ]
  },
  {
   "cell_type": "markdown",
   "id": "e78a0140-5450-45cf-942b-9d3e6cc96ee4",
   "metadata": {},
   "source": [
    "#### 3.1.4 Como é a distribuição semanal dos pedidos não entregues?"
   ]
  },
  {
   "cell_type": "code",
   "execution_count": null,
   "id": "d7b5a842-268a-4aae-8fbc-263eaab7649d",
   "metadata": {},
   "outputs": [],
   "source": [
    "# Manipulação de Dados - Criando um DataFrame agrupado\n",
    "df_aux = df.loc[(df['day_month_year'] >= '2018-01-01') & (df['order_status'] != 'delivered'), :]\n",
    "df_aux = df_aux[['weekofyear', 'order_id', 'order_status']].groupby(['weekofyear', 'order_status']).count().reset_index()\n",
    "\n",
    "# Criando o gráfico interativo\n",
    "fig_14 = px.bar(df_aux, x='weekofyear', y='order_id', color='order_status',\n",
    "                 title='Número de Pedidos Não Entregues por Semana (2018)',  # Título do gráfico\n",
    "                 labels={'weekofyear': 'Semana', 'order_id': 'Número de Pedidos'})  # Rótulos dos eixos\n",
    "\n",
    "# Personalizando o gráfico\n",
    "fig_14.update_layout(\n",
    "    title='Número de Pedidos Não Entregues por Semana (2018)',  # Título do gráfico\n",
    "    xaxis_title='Semana',                                      # Rótulo do eixo X\n",
    "    yaxis_title='Número de Pedidos',                            # Rótulo do eixo Y\n",
    "    title_x=0.5                                             # Centraliza o título do gráfico\n",
    ")\n",
    "\n",
    "# Salvando a imagem\n",
    "fig_14.write_image('C:/Users/Rubeus/Documents/tcc/images/fig_14.png', width=1200, height=600, scale=3)\n",
    "\n",
    "# Exibindo o gráfico interativo\n",
    "fig_14.show()"
   ]
  },
  {
   "cell_type": "markdown",
   "id": "44c3c43b-0caf-4565-b27b-b21600c57db5",
   "metadata": {},
   "source": [
    "* Juntando o número de pedidos por semana, podemos ver que o número de pedidos cancelados tem um pico na semana 4 até a semana 9, e outro pico por volta da 30ª semana.\n",
    "\n",
    "* A pergunta é: isso é um padrão anual?"
   ]
  },
  {
   "cell_type": "code",
   "execution_count": null,
   "id": "e55b5a95-51ea-431a-8b49-b2eb3aa5027f",
   "metadata": {},
   "outputs": [],
   "source": [
    "# Manipulação de Dados - Criando um DataFrame agrupado\n",
    "df_aux = df.loc[(df['day_month_year'] >= '2017-01-01') & (df['day_month_year'] <= '2017-12-31') & (df['order_status'] != 'delivered'), :]\n",
    "df_aux = df_aux[['weekofyear', 'order_id', 'order_status']].groupby(['weekofyear', 'order_status']).count().reset_index()\n",
    "\n",
    "# Criando o gráfico interativo\n",
    "fig_141 = px.bar(df_aux, x='weekofyear', y='order_id', color='order_status',\n",
    "                 title='Número de Pedidos Não Entregues por Semana (2017)',  # Título do gráfico\n",
    "                 labels={'weekofyear': 'Semana', 'order_id': 'Número de Pedidos'})  # Rótulos dos eixos\n",
    "\n",
    "# Personalizando o gráfico\n",
    "fig_141.update_layout(\n",
    "    title='Número de Pedidos Não Entregues por Semana (2017)',  # Título do gráfico\n",
    "    xaxis_title='Semana',                                      # Rótulo do eixo X\n",
    "    yaxis_title='Número de Pedidos',                            # Rótulo do eixo Y\n",
    "    title_x=0.5                                             # Centraliza o título do gráfico\n",
    ")\n",
    "\n",
    "# Salvando a imagem (opcional)\n",
    "fig_141.write_image('C:/Users/Rubeus/Documents/tcc/images/fig_141.png', width=1200, height=600, scale=3)\n",
    "\n",
    "# Exibindo o gráfico interativo\n",
    "fig_141.show()"
   ]
  },
  {
   "cell_type": "markdown",
   "id": "e67946f8-f251-4d7a-b961-bb93c6d3dbf8",
   "metadata": {},
   "source": [
    "* Não conseguimos observar um padrão anual nos pedidos cancelados como em 2018. Mas, assim como em 2018, o número de pedidos cancelados é maior na 30ª a 33ª semana."
   ]
  },
  {
   "cell_type": "markdown",
   "id": "77d1f13f-91a1-40e5-9cce-3c0eba26db98",
   "metadata": {},
   "source": [
    "#### 3.1.5 Números de pedidos por categoria "
   ]
  },
  {
   "cell_type": "code",
   "execution_count": null,
   "id": "ba7673ee-c4a8-4650-8545-d56e63891c7f",
   "metadata": {
    "scrolled": true
   },
   "outputs": [],
   "source": [
    "df_aux1 = df[['product_category_name', 'order_id']].groupby(['product_category_name']).count().reset_index()\n",
    "df_aux1 = df_aux1.sort_values('order_id', ascending=False).head(20)\n",
    "\n",
    "fig_21 = px.bar(df_aux1, x='product_category_name', y='order_id', text_auto=True)\n",
    "fig_21.update_layout(\n",
    "    title='Número de Pedidos por Categoria',\n",
    "    xaxis_title='Categoria',\n",
    "    yaxis_title='Número de Pedidos'\n",
    ")\n",
    "\n",
    "# Salvar o primeiro gráfico como imagem\n",
    "fig_21.write_image('C:/Users/Rubeus/Documents/tcc/images/fig_21.png', width=1200, height=600, scale=3)\n",
    "\n",
    "# Exibir o primeiro gráfico\n",
    "fig_21.show()"
   ]
  },
  {
   "cell_type": "markdown",
   "id": "4512ccd5-982f-43b5-bc30-41388955ea25",
   "metadata": {},
   "source": [
    "* A categoria mais vendida é **cama, mesa e banho**, seguida por **beleza e saúde**, **esporte e lazer**, **móveis de decoração** e **informática e acessórios**.\n",
    "\n",
    "* As categorias menos vendidas são **seguros e serviços**, **fashion roupa infanto-juvenil**, **PC gamer**, **CDs DVDs musicais** e **portáteis de cozinha**.\n",
    "\n",
    "* Podemos dizer que um e-commerce não é o melhor lugar para vender seguros e que CDs e DVDs não vendem tanto quanto costumavam."
   ]
  },
  {
   "cell_type": "markdown",
   "id": "9bda0aa6-c759-4c51-bf11-59dc97b15fcf",
   "metadata": {},
   "source": [
    "#### 3.1.6 Números de pedidos por estado "
   ]
  },
  {
   "cell_type": "code",
   "execution_count": null,
   "id": "f23d5585-481f-49d2-8269-28b6b09e90bc",
   "metadata": {},
   "outputs": [],
   "source": [
    "# Manipulação de Dados - Criando um DataFrame agrupado\n",
    "df_aux = df[['customer_state', 'order_id']].groupby(['customer_state']).count().reset_index()\n",
    "df_aux.sort_values('order_id', ascending=False, inplace=True)\n",
    "\n",
    "# Criando o gráfico interativo\n",
    "fig_16 = px.bar(df_aux, x='customer_state', y='order_id', text='order_id',\n",
    "                 title='Número de Pedidos por Estado',  # Título do gráfico\n",
    "                 labels={'customer_state': 'Estado', 'order_id': 'Número de Pedidos'})  # Rótulos dos eixos\n",
    "\n",
    "# Personalizando o gráfico\n",
    "fig_16.update_layout(\n",
    "    title='Número de Pedidos por Estado',  # Título do gráfico\n",
    "    xaxis_title='Estado',                  # Rótulo do eixo X\n",
    "    yaxis_title='Número de Pedidos',        # Rótulo do eixo Y\n",
    "    height=600,                            # Altura do gráfico\n",
    "    width=1000,                            # Largura do gráfico\n",
    "    xaxis_title_font_size=14,              # Tamanho da fonte do título do eixo X\n",
    "    yaxis_title_font_size=14,              # Tamanho da fonte do título do eixo Y\n",
    "    title_x=0.5,                           # Centraliza o título do gráfico\n",
    "    xaxis_tickangle=-45                    # Inclina os rótulos do eixo X para melhor visualização\n",
    ")\n",
    "\n",
    "# Salvando a imagem (opcional)\n",
    "fig_16.write_image('C:/Users/Rubeus/Documents/tcc/images/fig_16.png', width=1200, height=600, scale=3)\n",
    "\n",
    "# Exibindo o gráfico interativo\n",
    "fig_16.show()"
   ]
  },
  {
   "cell_type": "markdown",
   "id": "181b6100-45d8-4877-b9a2-c60a5c7f3604",
   "metadata": {},
   "source": [
    "* São Paulo é o maior comprador (muito a frente dos demais). O segundo e o terceiro lugares também são da Região Sudeste, mas não são tão grandes quanto SP em número de pedidos.\n",
    "\n",
    "* No último lugar estão os Estados do Norte do país, qusãoão bastante distantes dos centros logísticos."
   ]
  },
  {
   "cell_type": "markdown",
   "id": "9e834d52-7908-47e0-a4de-0a55b9d73cc7",
   "metadata": {},
   "source": [
    "#### 3.1.7 Os clientes compram mais no começo do mês? "
   ]
  },
  {
   "cell_type": "code",
   "execution_count": null,
   "id": "70192227-faf7-49c0-bd92-0c79a4ee2d92",
   "metadata": {},
   "outputs": [],
   "source": [
    "# Manipulação de Dados\n",
    "df_aux = df[['order_id', 'day']].groupby(['day']).count().reset_index()\n",
    "df_aux.sort_values('order_id', ascending=False, inplace=True)\n",
    "\n",
    "# Criando o gráfico de barras\n",
    "fig_17 = px.bar(df_aux, x='day', y='order_id', text_auto=True,\n",
    "                title='Número de Pedidos por Dia do Mês',\n",
    "                labels={'day': 'Dia', 'order_id': 'Número de Pedidos'},\n",
    "                color='order_id', color_continuous_scale='magma')\n",
    "\n",
    "# Personalizando o layout do gráfico\n",
    "fig_17.update_layout(\n",
    "    title_x=0.5,                       # Centraliza o título\n",
    "    xaxis_title='Dia do Mês',          # Rótulo do eixo X\n",
    "    yaxis_title='Número de Pedidos',   # Rótulo do eixo Y\n",
    "    xaxis=dict(tickmode='linear'),     # Define o modo de ticks do eixo X para linear\n",
    "    yaxis=dict(title='Número de Pedidos'),  # Define o título do eixo Y\n",
    "    xaxis_tickangle=-45                # Inclina os rótulos do eixo X para melhor legibilidade\n",
    ")\n",
    "\n",
    "# Salvando o gráfico como uma imagem PNG\n",
    "fig_17.write_image('C:/Users/Rubeus/Documents/tcc/images/fig_17.png', width=1200, height=600, scale=3)\n",
    "\n",
    "# Exibindo o gráfico interativo\n",
    "fig_17.show()"
   ]
  },
  {
   "cell_type": "markdown",
   "id": "6afb5cc3-809c-4e2a-99d0-0506a94dfc36",
   "metadata": {},
   "source": [
    "* Não tem um padrão de compra para falar que os consumidores compram mais no começo do mês, mas há uma queda no número de pedidos a partir do 28° dia."
   ]
  },
  {
   "cell_type": "markdown",
   "id": "1ea035b3-6d3b-40a9-977b-a87d8cb14fc4",
   "metadata": {},
   "source": [
    "#### 3.1.8 Número de Pedidos por Dia da Semana"
   ]
  },
  {
   "cell_type": "code",
   "execution_count": null,
   "id": "f8cb1e20-908b-4770-be05-889f63271760",
   "metadata": {},
   "outputs": [],
   "source": [
    "df_aux1 = df[['order_id', 'name_dayofweek']].groupby(['name_dayofweek']).count().reset_index()\n",
    "df_aux1.sort_values('order_id', ascending=False, inplace=True)\n",
    "\n",
    "fig_18 = px.bar(df_aux1, x='name_dayofweek', y='order_id', text_auto=True, color='name_dayofweek',\n",
    "                         labels={'name_dayofweek': 'Dia da Semana', 'order_id': 'Número de Pedidos'})\n",
    "fig_18.update_layout(\n",
    "    title='Número de Pedidos por Dia da Semana',\n",
    "    xaxis_title='Dia da Semana',\n",
    "    yaxis_title='Número de Pedidos'\n",
    ")\n",
    "\n",
    "# Salvar o primeiro gráfico como imagem\n",
    "fig_18.write_image('C:/Users/Rubeus/Documents/tcc/images/fig_18.png', width=800, height=400, scale=3)\n",
    "\n",
    "# Exibir o primeiro gráfico\n",
    "fig_18.show()"
   ]
  },
  {
   "cell_type": "markdown",
   "id": "5b42b53c-c17c-422b-b64d-7dd5be5be8a6",
   "metadata": {},
   "source": [
    "#### 3.1.9 Valor Médio de Pagamento por Dia da Semana"
   ]
  },
  {
   "cell_type": "code",
   "execution_count": null,
   "id": "120e578a-2672-49e4-b64a-8d433b060f0f",
   "metadata": {},
   "outputs": [],
   "source": [
    "df_aux2 = df[['payment_value', 'name_dayofweek']].groupby(['name_dayofweek']).mean().reset_index()\n",
    "df_aux2.sort_values('payment_value', ascending=False, inplace=True)\n",
    "\n",
    "fig_19 = px.bar(df_aux2, x='name_dayofweek', y='payment_value', text_auto=True, color='name_dayofweek',\n",
    "                        labels={'name_dayofweek': 'Dia da Semana', 'payment_value': 'Valor Médio do Pagamento'})\n",
    "fig_19.update_layout(\n",
    "    title='Valor Médio de Pagamento por Dia da Semana',\n",
    "    xaxis_title='Dia da Semana',\n",
    "    yaxis_title='Valor Médio do Pagamento'\n",
    ")\n",
    "\n",
    "# Salvar o segundo gráfico como imagem\n",
    "fig_19.write_image('C:/Users/Rubeus/Documents/tcc/images/fig_19.png', width=1200, height=400, scale=3)\n",
    "\n",
    "# Exibir o segundo gráfico\n",
    "fig_19.show()"
   ]
  },
  {
   "cell_type": "markdown",
   "id": "7901d179-5acc-4ab3-be47-53abad906f16",
   "metadata": {},
   "source": [
    "* No primeiro gráfico, o dia com o maior número de pedidos é a segunda-feira, mas não é o dia com o maior valor médio de pagamento.\n",
    "\n",
    "* No segundo gráfico, o dia com o maior valor médio de pagamento é a sexta-feira, que ocupa a quinta posição em número de pedidos. As pessoas podem estar mais propensas a gastar mais às sextas-feiras do que em outros dias, ou pode ser que a Black Friday de 2017 esteja influenciando os números.\n",
    "\n",
    "* O fim de semana tem o menor número de pedidos e o menor valor médio de pagamento. As pessoas não gastam muito online durante os fins de semana."
   ]
  },
  {
   "cell_type": "code",
   "execution_count": 38,
   "id": "ae64b39f-47b3-40d3-ab40-7c63e29b73e3",
   "metadata": {},
   "outputs": [],
   "source": [
    "# Cria dados de ponto representativo a partir do código postal dos dados geográficos\n",
    "geo_data = pd.DataFrame(dict(rep_lat=geolocation.groupby(\"geolocation_zip_code_prefix\").geolocation_lat.mean(),\n",
    "                                rep_long=geolocation.groupby(\"geolocation_zip_code_prefix\").geolocation_lng.mean())).reset_index()\n",
    "\n",
    "# Mesclar os dados de geolocalização nos dados de clientes\n",
    "geo_customers = customers.merge(geo_data, left_on=\"customer_zip_code_prefix\", right_on=\"geolocation_zip_code_prefix\")"
   ]
  },
  {
   "cell_type": "code",
   "execution_count": null,
   "id": "078b441c-74b0-4b5c-9cb5-fa7e366b7111",
   "metadata": {
    "scrolled": true
   },
   "outputs": [],
   "source": [
    "# Verificar quantas linhas foram removidas\n",
    "print(\"{} linhas foram perdidas. Correspondente a {:.1f}% das linhas.\".format(len(customers)-len(geo_customers), (len(customers)-len(geo_customers))/len(geo_customers)*100))\n",
    "geo_customers.head(10)"
   ]
  },
  {
   "cell_type": "code",
   "execution_count": null,
   "id": "cfe6914f-2acd-4e86-ad43-288257d5dcb2",
   "metadata": {
    "scrolled": true
   },
   "outputs": [],
   "source": [
    "# Verificando quais linhas foram removidas de customers\n",
    "missing_data = customers[~customers.customer_zip_code_prefix.isin(geo_customers.customer_zip_code_prefix.values)]\n",
    "missing_data"
   ]
  },
  {
   "cell_type": "code",
   "execution_count": null,
   "id": "8eeede63-e3cb-42c8-8b3d-7ce76aa02df3",
   "metadata": {},
   "outputs": [],
   "source": [
    "# Verificando se os códigos realmente não estavam em geolocation\n",
    "geolocation.geolocation_zip_code_prefix.isin(missing_data.customer_zip_code_prefix.values)"
   ]
  },
  {
   "cell_type": "code",
   "execution_count": null,
   "id": "03d3e0b8-e4a6-4706-be0c-f0f3027b2c45",
   "metadata": {},
   "outputs": [],
   "source": [
    "# Focar em customer_unique_id porque customer_id é distribuído por pedido\n",
    "grouped_geo_customers = geo_customers.groupby(\"customer_unique_id\")[[\"rep_lat\", \"rep_long\"]].mean().reset_index()\n",
    "grouped_geo_customers.head()"
   ]
  },
  {
   "cell_type": "markdown",
   "id": "f18a1438-7c6b-40c4-8b88-a28069d28160",
   "metadata": {},
   "source": [
    "#### 3.1.10 Quais são as 5 cidades com mais pedidos?"
   ]
  },
  {
   "cell_type": "code",
   "execution_count": null,
   "id": "a7a6459d-d365-45d9-8c97-f9c408de21b9",
   "metadata": {},
   "outputs": [],
   "source": [
    "# Manipulação dos dados\n",
    "top_5_cities = df['customer_city'].value_counts().head(5).reset_index()\n",
    "top_5_cities.columns = ['Cidade', 'Número de Pedidos']\n",
    "\n",
    "# Gráfico\n",
    "fig_52 = px.bar(top_5_cities, x='Cidade', y='Número de Pedidos', \n",
    "                 title='Top 5 Cidades com Mais Pedidos',\n",
    "                 labels={'Cidade': 'Cidade', 'Número de Pedidos': 'Número de Pedidos'},\n",
    "                 color='Cidade')\n",
    "\n",
    "# Atualizando layout\n",
    "fig_52.update_layout(\n",
    "    xaxis_title='Cidade',\n",
    "    yaxis_title='Número de Pedidos',\n",
    "    width=800,  # Definindo a largura do gráfico\n",
    "    height=400,  # Definindo a altura do gráfico\n",
    "    margin=dict(l=20, r=20, t=40, b=20)  # Ajustando as margens\n",
    ")\n",
    "\n",
    "# Mostrando o gráfico\n",
    "fig_52.show()\n",
    "\n",
    "# Salvando o gráfico como uma imagem PNG\n",
    "fig_52.write_image('C:/Users/Rubeus/Documents/tcc/images/fig_52.png', width=1200, height=600, scale=3)"
   ]
  },
  {
   "cell_type": "markdown",
   "id": "389f2d2f-417a-4d38-a05b-fbf45634e23e",
   "metadata": {},
   "source": [
    "### 3.3 Análise dos preços "
   ]
  },
  {
   "cell_type": "markdown",
   "id": "d98481e7-1297-4642-b1b9-10a1f8883c03",
   "metadata": {},
   "source": [
    "#### 3.3.1 Como é a distribuição dos preços nas 10 categorias de produtos mais vendidas?"
   ]
  },
  {
   "cell_type": "code",
   "execution_count": null,
   "id": "cb52ae95-0930-4eb1-8b91-872b3833ffbe",
   "metadata": {},
   "outputs": [],
   "source": [
    "# Manipulação de Dados - Agrupando por categoria de produto\n",
    "df_aux1 = df[['product_category_name', 'order_id']].groupby(['product_category_name']).count().reset_index()\n",
    "df_aux1.sort_values('order_id', ascending=False, inplace=True)\n",
    "\n",
    "# Selecionando as 30 categorias mais vendidas\n",
    "most_sold_categories = df_aux1.product_category_name.head(10).tolist()\n",
    "df_aux2 = df[df['product_category_name'].isin(most_sold_categories)]\n",
    "\n",
    "# Criando o gráfico de caixa (box plot) com uma paleta de cores categórica\n",
    "fig_31 = px.box(df_aux2, x='product_category_name', y='price',\n",
    "                 title='Distribuição de Preços nas 10 Categorias Mais Vendidas',\n",
    "                 labels={'product_category_name': 'Categoria', 'price': 'Preço'},\n",
    "                 color='product_category_name',\n",
    "                 color_discrete_sequence=px.colors.qualitative.Plotly)  # Aplicando uma paleta de cores categóricas\n",
    "\n",
    "# Personalizando o layout do gráfico\n",
    "fig_31.update_layout(\n",
    "    title_x=0.5,                   # Centraliza o título\n",
    "    xaxis_title='Categoria',       # Rótulo do eixo X\n",
    "    yaxis_title='Preço',           # Rótulo do eixo Y\n",
    "    xaxis_showgrid=False,          # Remove a grade do eixo X\n",
    "    yaxis=dict(title='Preço'),     # Define o título do eixo Y\n",
    "    xaxis_tickangle=-45,           # Inclina os rótulos do eixo X para melhor legibilidade\n",
    "    height=600,                    # Aumenta a altura do gráfico\n",
    "    margin=dict(l=40, r=40, t=80, b=150),  # Ajusta as margens para dar mais espaço aos rótulos\n",
    "    xaxis_tickfont_size=10         # Diminui o tamanho da fonte dos rótulos do eixo X\n",
    ")\n",
    "\n",
    "# Exibindo o gráfico interativo\n",
    "fig_31.show()\n",
    "\n",
    "# Salvando o gráfico como uma imagem PNG\n",
    "fig_31.write_image('C:/Users/Rubeus/Documents/tcc/images/fig_31.png', width=1200, height=600, scale=3)"
   ]
  },
  {
   "cell_type": "code",
   "execution_count": null,
   "id": "8af01e15-caa7-42c1-a8a0-2fdc4fc2a02f",
   "metadata": {
    "scrolled": true
   },
   "outputs": [],
   "source": [
    "# Calculando estatísticas para as 10 categorias mais vendidas\n",
    "stats_table = df_aux2.groupby('product_category_name').agg(\n",
    "    num_pedidos=('price', 'count'),\n",
    "    preco_min=('price', 'min'),\n",
    "    preco_max=('price', 'max'),\n",
    "    preco_medio=('price', 'mean'),\n",
    "    mediana=('price', 'median')\n",
    ").reset_index()\n",
    "\n",
    "# Formatando os valores numéricos\n",
    "stats_table['preco_medio'] = stats_table['preco_medio'].round(2)\n",
    "stats_table['mediana'] = stats_table['mediana'].round(2)\n",
    "\n",
    "# Ordenando a tabela pelo número de pedidos (num_pedidos) em ordem decrescente\n",
    "stats_table = stats_table.sort_values(by='num_pedidos', ascending=False).reset_index(drop=True)\n",
    "\n",
    "# Melhorando a exibição da tabela\n",
    "stats_table_styled = stats_table.style.format({\n",
    "    'preco_min': 'R${:,.2f}',\n",
    "    'preco_max': 'R${:,.2f}',\n",
    "    'preco_medio': 'R${:,.2f}',\n",
    "    'mediana': 'R${:,.2f}'\n",
    "}).set_table_styles([\n",
    "    {'selector': 'thead th', 'props': [('text-align', 'center'), ('font-weight', 'bold'), ('background-color', '#001c5b'), ('color', '#ffffff')]},\n",
    "    {'selector': 'tbody td', 'props': [('text-align', 'center')]},\n",
    "]).set_caption('Tabela 1: Estatísticas das 10 Categorias Mais Vendidas')\n",
    "\n",
    "# Exibindo a tabela no Jupyter Notebook\n",
    "stats_table_styled"
   ]
  },
  {
   "cell_type": "markdown",
   "id": "2e1c6b27-1e1d-411b-a65c-7e4d8b741df7",
   "metadata": {},
   "source": [
    "#### 3.3.2 Qual é a distribuição dos preços nas 10 categorias de produtos mais vendidas, considerando apenas os produtos com preço abaixo de R$1.000?"
   ]
  },
  {
   "cell_type": "code",
   "execution_count": null,
   "id": "b71d4a49-2d41-4b2e-b854-744e445e59f8",
   "metadata": {},
   "outputs": [],
   "source": [
    "# Manipulação de Dados - Agrupando por categoria de produto\n",
    "df_aux1 = df[['product_category_name', 'order_id']].groupby(['product_category_name']).count().reset_index()\n",
    "df_aux1.sort_values('order_id', ascending=False, inplace=True)\n",
    "\n",
    "# Selecionando as 30 categorias mais vendidas e preços abaixo de R$1.000\n",
    "most_sold_categories = df_aux1.product_category_name.head(10).tolist()\n",
    "df_aux2 = df[(df['product_category_name'].isin(most_sold_categories)) & (df['price'] <= 1000)]\n",
    "\n",
    "# Criando o gráfico de caixa (box plot)\n",
    "fig_32 = px.box(df_aux2, x='product_category_name', y='price',\n",
    "                 title='Distribuição de Preços nas 30 Categorias Mais Vendidas (Abaixo de R$1.000)',\n",
    "                 labels={'product_category_name': 'Categoria', 'price': 'Preço'},\n",
    "                 color='product_category_name',\n",
    "                 color_discrete_sequence=px.colors.qualitative.Plotly)\n",
    "\n",
    "# Personalizando o layout do gráfico\n",
    "fig_32.update_layout(\n",
    "    title_x=0.5,                   # Centraliza o título\n",
    "    xaxis_title='Categoria',       # Rótulo do eixo X\n",
    "    yaxis_title='Preço',           # Rótulo do eixo Y\n",
    "    xaxis_showgrid=False,          # Remove a grade do eixo X\n",
    "    xaxis_tickangle=-45,           # Inclina os rótulos do eixo X para melhor legibilidade\n",
    "    height=650                     # Define a altura do gráfico\n",
    ")\n",
    "\n",
    "# Exibindo o gráfico interativo\n",
    "fig_32.show()\n",
    "\n",
    "# Salvando o gráfico como uma imagem PNG\n",
    "fig_32.write_image('C:/Users/Rubeus/Documents/tcc/images/fig_32.png', width=1200, height=600, scale=3)"
   ]
  },
  {
   "cell_type": "markdown",
   "id": "d3090149-369b-4117-976c-350d6f8cb1a1",
   "metadata": {},
   "source": [
    "* Podemos concluir que a maioria dos produtos nas 30 principais categorias estão sendo vendidos por menos de R$250."
   ]
  },
  {
   "cell_type": "markdown",
   "id": "ea7f79cd-16fd-4bfc-ae7a-eff0d30e3c24",
   "metadata": {},
   "source": [
    "#### 3.3.3 Como varia o preço médio dos produtos entre os diferentes estados e regiões do Brasil?"
   ]
  },
  {
   "cell_type": "code",
   "execution_count": null,
   "id": "03e00ad2-4634-4af1-a69f-6468cfc239c5",
   "metadata": {
    "scrolled": true
   },
   "outputs": [],
   "source": [
    "# Manipulação de Dados - Criando o dataframe agrupado\n",
    "df_aux = df[['customer_state', 'price', 'customer_region']].groupby(['customer_state', 'customer_region']).mean().reset_index()\n",
    "df_aux.sort_values('price', ascending=False, inplace=True)\n",
    "\n",
    "# Criando o gráfico de barras\n",
    "fig_33 = px.bar(df_aux, x='customer_state', y='price', color='customer_region', text_auto=True,\n",
    "                title='Preço Médio dos Produtos por Estado e Região',\n",
    "                labels={'customer_state': 'Estado', 'price': 'Preço Médio', 'customer_region': 'Região'})\n",
    "\n",
    "# Personalizando o layout do gráfico\n",
    "fig_33.update_layout(\n",
    "    title_x=0.5,                   # Centraliza o título\n",
    "    xaxis_title='Estado',          # Rótulo do eixo X\n",
    "    yaxis_title='Preço Médio',     # Rótulo do eixo Y\n",
    "    xaxis_showgrid=False,          # Remove a grade do eixo X\n",
    "    yaxis=dict(title='Preço Médio'), # Define o título do eixo Y\n",
    ")\n",
    "\n",
    "# Exibindo o gráfico interativo\n",
    "fig_33.show()\n",
    "\n",
    "# Salvando o gráfico como uma imagem PNG\n",
    "fig_33.write_image('C:/Users/Rubeus/Documents/tcc/images/fig_33.png', width=1200, height=800, scale=3)"
   ]
  },
  {
   "cell_type": "markdown",
   "id": "5ef76e37-6079-45ed-8678-fa05e3ed0621",
   "metadata": {},
   "source": [
    "* Estados do Norte e Nordeste têm o maior preço médio. Esses estados pagam mais por produto e compram em menor quantidade, como observado anteriormente.\n",
    "  \n",
    "* Estados do Sul e Sudeste têm o menor preço médio. Esses estados pagam menos por produto e compram em maior quantidade, também observado anteriormente."
   ]
  },
  {
   "cell_type": "markdown",
   "id": "92219d73-d8d7-45a9-b2fa-8cea0a1508c3",
   "metadata": {},
   "source": [
    "#### 3.3.4 Qual é a diferença no preço médio do frete entre os estados e como isso varia por região?"
   ]
  },
  {
   "cell_type": "code",
   "execution_count": null,
   "id": "e5720727-8a10-4159-ae54-be533e9d40e1",
   "metadata": {
    "scrolled": true
   },
   "outputs": [],
   "source": [
    "# Manipulação de Dados - Criando o dataframe agrupado\n",
    "df_aux = df[['customer_state', 'freight_value', 'customer_region']].groupby(['customer_state', 'customer_region']).mean().reset_index()\n",
    "df_aux.sort_values('freight_value', ascending=False, inplace=True)\n",
    "\n",
    "# Criando o gráfico de barras\n",
    "fig_34 = px.bar(df_aux, x='customer_state', y='freight_value', color='customer_region', text_auto=True,\n",
    "                title='Preço Médio do Frete por Estado e Região',\n",
    "                labels={'customer_state': 'Estado', 'freight_value': 'Preço Médio do Frete', 'customer_region': 'Região'})\n",
    "\n",
    "# Personalizando o layout do gráfico\n",
    "fig_34.update_layout(\n",
    "    title_x=0.5,                   # Centraliza o título\n",
    "    xaxis_title='Estado',          # Rótulo do eixo X\n",
    "    yaxis_title='Preço Médio do Frete',  # Rótulo do eixo Y\n",
    "    xaxis_showgrid=False,          # Remove a grade do eixo X\n",
    "    yaxis=dict(title='Preço Médio do Frete'), # Define o título do eixo Y\n",
    ")\n",
    "\n",
    "# Exibindo o gráfico interativo\n",
    "fig_34.show()\n",
    "\n",
    "# Salvando o gráfico como uma imagem PNG\n",
    "fig_34.write_image('C:/Users/Rubeus/Documents/tcc/images/fig_34.png', width=1200, height=600, scale=3)"
   ]
  },
  {
   "cell_type": "markdown",
   "id": "e069d94d-e94c-4d9e-9234-19856fb8ddd3",
   "metadata": {},
   "source": [
    "* Além do alto preço dos produtos, os estados do Norte e Nordeste também possuem o maior preço médio para frete. Esses estados enfrentam desafios logísticos que podem aumentar o custo do frete.\n",
    "\n",
    "* O menor preço de frete está no estado de São Paulo, possivelmente devido à sua infraestrutura logística bem desenvolvida, ao contrário dos estados menos populosos."
   ]
  },
  {
   "cell_type": "markdown",
   "id": "dc0de37d-2d1b-48cd-bbc5-e359dcbd093d",
   "metadata": {},
   "source": [
    "### 3.4 Análise dos reviews "
   ]
  },
  {
   "cell_type": "markdown",
   "id": "8d63782c-1d0f-44d2-80cf-cb1d180e4635",
   "metadata": {},
   "source": [
    "#### 3.4.1 Quais categorias de produtos apresentam as melhores e piores avaliações?"
   ]
  },
  {
   "cell_type": "code",
   "execution_count": null,
   "id": "2421f671-249c-4979-84ae-014843e16911",
   "metadata": {},
   "outputs": [],
   "source": [
    "category_reviews = df.groupby('product_category_name')['review_score'].mean().reset_index()\n",
    "\n",
    "# Ordenando os resultados pela média das avaliações\n",
    "category_reviews = category_reviews.sort_values(by='review_score', ascending=False)\n",
    "\n",
    "# Visualizando as médias das avaliações\n",
    "plt.figure(figsize=(15, 14))\n",
    "sns.barplot(x='review_score', y='product_category_name', data=category_reviews, palette='magma')\n",
    "plt.title('Média de Avaliações por Categoria de Produto', fontsize=16)\n",
    "plt.xlabel('Média da Avaliação', fontsize=14)\n",
    "plt.ylabel('Categoria de Produto', fontsize=14)\n",
    "\n",
    "# Salvando o gráfico como PNG \n",
    "plt.savefig('C:/Users/Rubeus/Documents/tcc/images/figura_41.png', dpi=300, bbox_inches='tight')\n",
    "\n",
    "# Exibindo o gráfico\n",
    "plt.show()"
   ]
  },
  {
   "cell_type": "markdown",
   "id": "7cdbd21c-06ff-462f-9558-5c5ae7b1bffc",
   "metadata": {},
   "source": [
    "#### 3.4.2 Como a pontuação média da avaliação dos produtos se relaciona com o tempo de entrega em diferentes regiões?\n",
    "\n",
    "* Tem releção entre o Review Score e o tempo de entrega por região? "
   ]
  },
  {
   "cell_type": "code",
   "execution_count": null,
   "id": "cce8536a-c761-44f7-b9f7-d957f92b313c",
   "metadata": {
    "scrolled": true
   },
   "outputs": [],
   "source": [
    "# Manipulação de Dados\n",
    "df_aux = df[['review_score', 'payment_value', 'customer_state', 'customer_region', 'delivery_time_in_hours']].groupby(['customer_state', 'customer_region']).mean().reset_index()\n",
    "\n",
    "# Criando o gráfico\n",
    "fig_44 = px.scatter(df_aux, x='delivery_time_in_hours', y='review_score', color='customer_region', size='payment_value', \n",
    "                    trendline='ols', trendline_scope='overall', trendline_color_override='black',\n",
    "                    title='Pontuação Média da Avaliação vs. Delta de Tempo (Regiões)',\n",
    "                    labels={'delivery_time_in_hours': 'Tempo de entrega (horas)', 'review_score': 'Pontuação da Avaliação'})\n",
    "\n",
    "# Customizando o gráfico\n",
    "fig_44.update_layout(\n",
    "    title='Pontuação Média da Avaliação vs. Tempo de entrega (Regiões)',\n",
    "    xaxis_title='Tempo de entrega (horas)',\n",
    "    yaxis_title='Pontuação da Avaliação',\n",
    "    height=650\n",
    ")\n",
    "\n",
    "# Mostrando o gráfico\n",
    "fig_44.show()\n",
    "\n",
    "# Salvando o gráfico como uma imagem PNG\n",
    "fig_44.write_image('C:/Users/Rubeus/Documents/tcc/images/fig_44.png', width=1200, height=600, scale=3)"
   ]
  },
  {
   "cell_type": "code",
   "execution_count": null,
   "id": "60be4194-33d9-42ac-a889-7f795d50f9ea",
   "metadata": {},
   "outputs": [],
   "source": [
    "# Selecionando apenas as colunas numéricas\n",
    "df_numerico = df.select_dtypes(include=['number'])\n",
    "\n",
    "# Calculando a matriz de correlação\n",
    "correlation_matrix = df_numerico.corr()\n",
    "\n",
    "# Criando o mapa de calor\n",
    "plt.figure(figsize=(12, 8))\n",
    "sns.heatmap(correlation_matrix, annot=True, cmap='RdBu', fmt='.2f', linewidths=0.5)\n",
    "plt.title('Matriz de Correlação')\n",
    "\n",
    "# Salvando a imagem na pasta especificada\n",
    "plt.savefig('C:/Users/Rubeus/Documents/tcc/images/matriz_correlacao.png', bbox_inches='tight')\n",
    "\n",
    "# Exibindo a imagem\n",
    "plt.show()"
   ]
  },
  {
   "cell_type": "markdown",
   "id": "16ecb749-60a6-4d0f-ad2b-dfb2fd1cfebf",
   "metadata": {},
   "source": [
    "#### 3.4.5 Qual é a relação entre a pontuação média de avaliação dos clientes e o tempo de entrega dos produtos em diferentes estados?"
   ]
  },
  {
   "cell_type": "code",
   "execution_count": null,
   "id": "09ea1012-b717-488d-b9fd-e648a248cd4c",
   "metadata": {
    "scrolled": true
   },
   "outputs": [],
   "source": [
    "# Manipulação de Dados - Criando o DataFrame agrupado\n",
    "df_aux = df[['review_score', 'payment_value', 'customer_state', 'delivery_time_in_hours']].groupby(['customer_state']).mean().reset_index()\n",
    "\n",
    "# Criando o gráfico\n",
    "fig_45 = px.scatter(df_aux, x='delivery_time_in_hours', y='review_score', color='customer_state', size='payment_value',\n",
    "                    trendline='ols', trendline_scope='overall', trendline_color_override='black',\n",
    "                    title='Pontuação Média da Avaliação vs. Delta de Tempo (Estados)',\n",
    "                    labels={'delivery_time_in_hours': 'Tempo de entrega (horas)', 'review_score': 'Pontuação da Avaliação'})\n",
    "\n",
    "# Customizando o gráfico\n",
    "fig_45.update_layout(\n",
    "    title='Pontuação Média da Avaliação vs. Tempo de entrega (Estados)',\n",
    "    xaxis_title='Tempo de entrega (horas)',\n",
    "    yaxis_title='Pontuação da Avaliação',\n",
    "    height=650\n",
    ")\n",
    "\n",
    "# Mostrando o gráfico\n",
    "fig_45.show()\n",
    "\n",
    "# Salvando o gráfico como uma imagem PNG\n",
    "fig_45.write_image('C:/Users/Rubeus/Documents/tcc/images/fig_45.png', width=1200, height=600, scale=3)"
   ]
  },
  {
   "cell_type": "markdown",
   "id": "80ea0145-bb4b-4b1f-95d8-70c03d5e21f7",
   "metadata": {},
   "source": [
    "* São Paulo é o estado com o menor tempo de entrega (199), mas não é o que possui a maior média de pontuação (4,11).\n",
    "\n",
    "* Por outro lado, temos Amapá com o segundo maior tempo de entrega (656) e a maior média de pontuação (4,23).\n",
    "\n",
    "* No entanto, Roraima tem a menor média de pontuação (3,58) para o maior tempo de entrega (667).\n",
    "\n",
    "* De maneira geral, é possível observar que há uma relação negativa entre as duas variáveis, e pode-se afirmar que quanto maior o tempo de entrega, menor é a média de pontuação."
   ]
  },
  {
   "cell_type": "markdown",
   "id": "a9f08b2f-d2c6-422f-8fab-b50901d53e0f",
   "metadata": {},
   "source": [
    "#### 3.4.6 Qual é a distribuição das avaliações dos clientes do e-commerce?"
   ]
  },
  {
   "cell_type": "code",
   "execution_count": null,
   "id": "71ae71fb-71ca-49f6-82d5-0a3c8741215e",
   "metadata": {},
   "outputs": [],
   "source": [
    "print(\"review_score == 5: %d\" % len(df[df['review_score']==5]))\n",
    "print(\"review_score == 4: %d\" % len(df[df['review_score']==4]))\n",
    "print(\"review_score == 3: %d\" % len(df[df['review_score']==3]))\n",
    "print(\"review_score == 2: %d\" % len(df[df['review_score']==2]))\n",
    "print(\"review_score == 1: %d\" % len(df[df['review_score']==1]))\n",
    "score_list = [len(df[df['review_score']==1]), \n",
    "              len(df[df['review_score']==2]),\n",
    "              len(df[df['review_score']==3]),\n",
    "              len(df[df['review_score']==4]),\n",
    "              len(df[df['review_score']==5])]"
   ]
  },
  {
   "cell_type": "code",
   "execution_count": null,
   "id": "eb2f4832-5f80-4270-be6b-5ec9e5ee9848",
   "metadata": {},
   "outputs": [],
   "source": [
    "# Definindo as cores\n",
    "colors = ['#001C5B', '#E64E36', '#ff82cd', '#0A4EE4', '#779E3D', '#f0a028']\n",
    "\n",
    "# Criando o gráfico de barras no Plotly\n",
    "fig_47 = go.Figure(data=[go.Bar(\n",
    "    x=[1, 2, 3, 4, 5], \n",
    "    y=score_list, \n",
    "    marker_color=colors,\n",
    "    text=score_list,  # Adiciona os rótulos com os valores de quantidade\n",
    "    textposition='inside',  # Coloca os rótulos dentro das barras\n",
    ")])\n",
    "\n",
    "# Configurações do gráfico\n",
    "fig_47.update_layout(\n",
    "    title=\"Distribuição das avaliações\",\n",
    "    xaxis_title=\"Pontuação da Avaliação\",\n",
    "    yaxis_title=\"Quantidade\",\n",
    "    width=1100,\n",
    "    height=600\n",
    ")\n",
    "\n",
    "# Exibindo o gráfico\n",
    "fig_47.show()\n",
    "\n",
    "# Salvando o gráfico como uma imagem PNG\n",
    "fig_47.write_image('C:/Users/Rubeus/Documents/tcc/images/fig_47.png', width=1100, height=600, scale=3)"
   ]
  },
  {
   "cell_type": "markdown",
   "id": "04ca8c5a-46d0-4d8e-bd36-f36edbc524bb",
   "metadata": {},
   "source": [
    "### 4.0 Quais são as métricas e KPIs importantes do e-commerce  "
   ]
  },
  {
   "cell_type": "markdown",
   "id": "49337d92-a536-4e52-8d4f-5283cf140afc",
   "metadata": {},
   "source": [
    "Uma métrica é qualquer medição quantificável e padronizada do desempenho de um site. KPI, ou indicador-chave de desempenho, refere-se a métricas essenciais para monitoramento. Embora todas as métricas tenham seu valor, os KPIs são especialmente relevantes, pois são os números que você acompanha para promover o crescimento. Nem todas as métricas de e-commerce têm o mesmo peso, mas identificar os KPIs corretos é crucial para melhorar o desempenho da loja virtual."
   ]
  },
  {
   "cell_type": "code",
   "execution_count": 55,
   "id": "062590c6-5961-4027-9940-da0c789b543c",
   "metadata": {},
   "outputs": [],
   "source": [
    "col = ['customer_unique_id', 'price', 'order_item_id', 'order_purchase_timestamp']\n",
    "orders = df[col]"
   ]
  },
  {
   "cell_type": "code",
   "execution_count": null,
   "id": "47885b21-51c0-4533-8b32-de8074c97789",
   "metadata": {},
   "outputs": [],
   "source": [
    "orders"
   ]
  },
  {
   "cell_type": "code",
   "execution_count": null,
   "id": "3c703a1d-b2f9-4a0a-83d7-89ccb47b26b0",
   "metadata": {},
   "outputs": [],
   "source": [
    "orders['order_purchase_timestamp'] = pd.to_datetime(orders['order_purchase_timestamp'])\n",
    "\n",
    "orders['InvoiceYearMonth'] = orders['order_purchase_timestamp'].map(lambda date: 100*date.year + date.month)\n",
    "\n",
    "'''\n",
    "InvoiceYearMonth representa a data combinada em ano e mês, \n",
    "facilitando a análise de dados de vendas por períodos mensais. \n",
    "'''\n",
    "\n",
    "orders['Revenue'] = orders['price'] * orders['order_item_id']\n",
    "orders_revenue = orders.groupby(['InvoiceYearMonth'])['Revenue'].sum().reset_index()\n",
    "orders.head()"
   ]
  },
  {
   "cell_type": "markdown",
   "id": "6ca2e6aa-6b35-47a8-ac91-45b79ebac631",
   "metadata": {},
   "source": [
    "#### 4.1 Receita Recorrente Mensal (MRR)"
   ]
  },
  {
   "cell_type": "markdown",
   "id": "620dcc17-6567-4ff0-a39b-50fe82698348",
   "metadata": {},
   "source": [
    "É a quantia que uma empresa espera receber mensalmente em pagamentos. O MRR é uma métrica de receita crucial para empresas de assinatura, pois permite avaliar a saúde financeira geral do negócio, monitorando de perto o fluxo de caixa mensal."
   ]
  },
  {
   "cell_type": "code",
   "execution_count": null,
   "id": "e6424408-b135-4930-b3cc-5a3f00bd7713",
   "metadata": {
    "scrolled": true
   },
   "outputs": [],
   "source": [
    "plot_data = [\n",
    "    go.Scatter(\n",
    "        x=orders_revenue['InvoiceYearMonth'],  # Eixo X: Mês e Ano\n",
    "        y=orders_revenue['Revenue'],  # Eixo Y: Receita\n",
    "        mode = 'lines+markers'  # Exibe tanto as linhas quanto os marcadores\n",
    "    )\n",
    "]\n",
    "\n",
    "plot_layout = go.Layout(\n",
    "        xaxis={\"type\": \"category\"},  # Eixo X será categórico (ex.: meses)\n",
    "        title='Receita Mensal', width=900, height=500  # Configurações do layout: título, largura e altura\n",
    "    )\n",
    "fig_401 = go.Figure(data=plot_data, layout=plot_layout)\n",
    "fig_401.show()  # Exibe o gráfico\n",
    "\n",
    "# Salvando o gráfico como uma imagem PNG\n",
    "fig_401.write_image('C:/Users/Rubeus/Documents/tcc/images/fig_401.png', width=1200, height=600, scale=3)"
   ]
  },
  {
   "cell_type": "markdown",
   "id": "d8d3b670-8017-4f03-930b-805df5ad7e3b",
   "metadata": {},
   "source": [
    "- A variação muito alta na receita no final de 2018 e 2016 chamou a atenção, o que motivou a análise mais detalhada desses períodos. Para entender melhor o motivo dessa flutuação, vou gerar uma tabela mostrando a quantidade de registros de transações feitas nesses meses. \n",
    "\n",
    "- O objetivo é verificar se essa variação se deve à falta de dados ou se há outra explicação, como uma mudança no comportamento de compras ou eventos específicos. Essa análise ajudará a identificar se os dados são consistentes e fornecerá insights sobre o desempenho real do e-commerce nesses períodos."
   ]
  },
  {
   "cell_type": "code",
   "execution_count": null,
   "id": "c60a3ea7-3128-4854-bccf-29224e5a560b",
   "metadata": {},
   "outputs": [],
   "source": [
    "# Verificando a contagem de registros por mês\n",
    "orders['InvoiceYearMonth'] = pd.to_datetime(orders['InvoiceYearMonth'], format='%Y%m')\n",
    "orders_count = orders.groupby(orders['InvoiceYearMonth'].dt.to_period('M')).size().reset_index(name='Registros')\n",
    "\n",
    "# Renomeando as colunas para uma exibição mais clara\n",
    "orders_count.columns = ['InvoiceYearMonth', 'Registros']\n",
    "\n",
    "# Criando a tabela como uma imagem usando plotly\n",
    "fig_table = go.Figure(go.Table(\n",
    "    header=dict(values=['InvoiceYearMonth', 'Registros']),\n",
    "    cells=dict(values=[orders_count['InvoiceYearMonth'].astype(str), orders_count['Registros']])\n",
    "))\n",
    "\n",
    "# Exibindo a tabela\n",
    "fig_table.show()"
   ]
  },
  {
   "cell_type": "markdown",
   "id": "5fd2d75f-9419-49e8-9a3f-3e91f5e15968",
   "metadata": {},
   "source": [
    "#### 4.2 Taxa de Crescimento Mensal  "
   ]
  },
  {
   "cell_type": "markdown",
   "id": "0b3a56df-16bc-4d2f-a910-d45285ed13e3",
   "metadata": {},
   "source": [
    "A taxa de crescimento mês a mês (MoM) é a menor unidade de medida usada para capturar de forma objetiva o ritmo de crescimento de uma empresa. Esse indicador pode ser expandido para acompanhar o crescimento trimestre a trimestre e ano a ano, fornecendo uma visão das taxas de crescimento ao longo de diferentes períodos de tempo. Ele é mais comumente utilizado por empresas em estágio inicial para realizar projeções."
   ]
  },
  {
   "cell_type": "code",
   "execution_count": null,
   "id": "fe80415e-dd48-4fd9-806d-9393206eacac",
   "metadata": {},
   "outputs": [],
   "source": [
    "# usando a função pct_change() para ver a variação percentual mensal\n",
    "orders_revenue['MonthlyGrowth'] = orders_revenue['Revenue'].pct_change()\n",
    "\n",
    "'''\n",
    "A função pct_change() no Pandas calcula a variação percentual entre os valores consecutivos de uma coluna de um DataFrame. \n",
    "Essencialmente, ela mostra quanto o valor atual mudou em relação ao valor anterior, como uma porcentagem.\n",
    "'''\n",
    "\n",
    "# exibindo as primeiras 10 linhas\n",
    "orders_revenue.head(10)"
   ]
  },
  {
   "cell_type": "code",
   "execution_count": null,
   "id": "001f543a-cd91-4643-8211-d68d6581d570",
   "metadata": {},
   "outputs": [],
   "source": [
    "plot_data = [\n",
    "    go.Scatter(\n",
    "        # Usando o método query para filtrar as datas posteriores a janeiro de 2017 como eixo X\n",
    "        x=orders_revenue.query(\"InvoiceYearMonth > 201701\")['InvoiceYearMonth'],\n",
    "\n",
    "        # Filtrando o crescimento mensal (MonthlyGrowth) após janeiro de 2017 para o eixo Y\n",
    "        y=orders_revenue.query(\"InvoiceYearMonth > 201701\")['MonthlyGrowth'],\n",
    "        \n",
    "        # Definindo o gráfico como um gráfico de linha com marcadores\n",
    "        mode = 'lines+markers'\n",
    "    )\n",
    "]\n",
    "\n",
    "plot_layout = go.Layout(\n",
    "        # Definindo o eixo X como categórico\n",
    "\n",
    "        xaxis={\"type\": \"category\"},\n",
    "    \n",
    "        title='Taxa de Crescimento Mensal', width=1000, height=500\n",
    "    )\n",
    "# Criando a figura combinando os dados do gráfico e o layout\n",
    "fig_402 = go.Figure(data=plot_data, layout=plot_layout)\n",
    "\n",
    "# Exibindo o gráfico\n",
    "fig_402.show()\n",
    "\n",
    "# Salvando o gráfico como uma imagem PNG\n",
    "fig_402.write_image('C:/Users/Rubeus/Documents/tcc/images/fig_402.png', width=1200, height=600, scale=3)"
   ]
  },
  {
   "cell_type": "code",
   "execution_count": null,
   "id": "002b1d27-80f6-4a72-b85c-a088ea8136e9",
   "metadata": {},
   "outputs": [],
   "source": [
    "# Convertendo a coluna 'InvoiceYearMonth' para string (caso não esteja nesse formato)\n",
    "orders_revenue['InvoiceYearMonth'] = orders_revenue['InvoiceYearMonth'].astype(str)\n",
    "\n",
    "# Filtrando os dados onde o 'InvoiceYearMonth' é maior que '201701'\n",
    "monthly_growth_table = orders_revenue[orders_revenue['InvoiceYearMonth'] > '201701'][['InvoiceYearMonth', 'MonthlyGrowth']]\n",
    "\n",
    "# Exibindo a tabela em formato legível\n",
    "print(\"Tabela de Taxa de Crescimento Mensal (MoM):\")\n",
    "print(monthly_growth_table.to_string(index=False))\n",
    "\n",
    "# Se preferir salvar a tabela em um arquivo de texto:\n",
    "monthly_growth_table.to_csv('C:/Users/Rubeus/Documents/tcc/images/fig_402_tabela.txt', index=False, sep='\\t')"
   ]
  },
  {
   "cell_type": "markdown",
   "id": "c134874e-1d98-46e4-9443-959f954a725c",
   "metadata": {},
   "source": [
    "* Nos primeiros meses de 2017, a taxa de crescimento permaneceu acima de 40% até maio, com exceção de abril.\n",
    "\n",
    "* Houve uma queda semelhante na taxa de crescimento em junho de 2017, após a qual a taxa de crescimento permaneceu em torno de 15-20% até setembro.\n",
    "  \n",
    "* Em novembro, houve um aumento, seguido por uma queda brusca em dezembro, após a qual a taxa de crescimento permaneceu em torno de 0%."
   ]
  },
  {
   "cell_type": "markdown",
   "id": "8c50205b-f254-4611-8684-8f5707d424a5",
   "metadata": {},
   "source": [
    "#### 4.3 Clientes Ativos Mensais "
   ]
  },
  {
   "cell_type": "markdown",
   "id": "90c9fe55-37a2-4f48-b919-3d56df2059a7",
   "metadata": {},
   "source": [
    "Clientes Ativos Mensais (MAU) é uma métrica de marketing usada para determinar o número de usuários únicos que visitam um site ou utilizam um app em um mês.\n",
    "\n",
    "Monitorar os MAUs é importante, pois fornece insights sobre o número de usuários que se envolvem ativamente com um produto ou serviço, ajudando as empresas a medir e melhorar o engajamento e a retenção de clientes.\n",
    "\n",
    "Os MAUs podem servir como um KPI, permitindo que as empresas meçam o sucesso de seus esforços de marketing e estratégias de desenvolvimento de produtos. Ao analisar as mudanças nos MAUs ao longo do tempo, as empresas identificam tendências e tomam decisões baseadas em dados.\n",
    "\n",
    "*Usamos Clientes Ativos Mensais, pois temos os dados dos clientes que realizam transações (comparado a usuários que apenas acessam a plataforma).*"
   ]
  },
  {
   "cell_type": "code",
   "execution_count": null,
   "id": "488ba4ce-fe7e-4868-b62f-bad6f88dd461",
   "metadata": {},
   "outputs": [],
   "source": [
    "# criando um dataframe de clientes ativos mensais contando os Customer IDs únicos\n",
    "orders_monthly_active = orders.groupby('InvoiceYearMonth')['customer_unique_id'].nunique().reset_index()\n",
    "\n",
    "orders_monthly_active.head()"
   ]
  },
  {
   "cell_type": "code",
   "execution_count": null,
   "id": "75a7f0bf-96a9-4450-9910-faa0b22557a7",
   "metadata": {},
   "outputs": [],
   "source": [
    "plot_data = [\n",
    "    go.Bar(\n",
    "        x=orders_monthly_active['InvoiceYearMonth'],\n",
    "        y=orders_monthly_active['customer_unique_id'],\n",
    "    )\n",
    "]\n",
    "\n",
    "plot_layout = go.Layout(\n",
    "        xaxis={\"type\": \"category\"},\n",
    "        title='Clientes Ativos Mensais', width=900, height=500\n",
    "    )\n",
    "\n",
    "fig_403 = go.Figure(data=plot_data, layout=plot_layout)\n",
    "fig_403.show()\n",
    "\n",
    "# Salvando o gráfico como uma imagem PNG\n",
    "fig_403.write_image('C:/Users/Rubeus/Documents/tcc/images/fig_403.png', width=1200, height=600, scale=3)"
   ]
  },
  {
   "cell_type": "markdown",
   "id": "2883f8ec-acdc-4043-bc53-9fa39e5df246",
   "metadata": {},
   "source": [
    "* O número de clientes ativos mensais apresentou um crescimento constante de dezembro de 2016 até novembro de 2017, mas depois permaneceu quase estagnado até agosto de 2018."
   ]
  },
  {
   "cell_type": "markdown",
   "id": "d6058b45-c147-47d7-8446-668d4d0c8f7f",
   "metadata": {},
   "source": [
    "#### 4.4 Pedidos Mensais"
   ]
  },
  {
   "cell_type": "markdown",
   "id": "fcff7b1e-bbd0-4f5c-86bb-7ada2c85507f",
   "metadata": {},
   "source": [
    "Aqui estamos medindo o número total de pedidos em cada mês. Se tivéssemos os dados de pedidos cancelados, poderíamos calcular a taxa de atendimento, que é uma métrica importante para avaliar a qualidade dos pedidos feitos, além de identificar problemas de precificação, entrega e outros relacionados.\n",
    "\n",
    "*Nota: Para a análise, considerei que todos os pedidos foram entregues.*"
   ]
  },
  {
   "cell_type": "code",
   "execution_count": null,
   "id": "4f411e87-1c93-4e23-b8d1-8e1280b7180e",
   "metadata": {},
   "outputs": [],
   "source": [
    "# criar um novo dataframe para o número de pedidos utilizando o campo 'quantidade'\n",
    "orders_monthly_sales = orders.groupby('InvoiceYearMonth')['order_item_id'].sum().reset_index()\n",
    "\n",
    "# imprimir o dataframe\n",
    "orders_monthly_sales.head()\n",
    "\n",
    "# plotar o gráfico\n",
    "plot_data = [\n",
    "    go.Bar(\n",
    "        x=orders_monthly_sales['InvoiceYearMonth'],  # eixo X: mês e ano da fatura\n",
    "        y=orders_monthly_sales['order_item_id'],  # eixo Y: número total de itens do pedido\n",
    "    )\n",
    "]\n",
    "\n",
    "plot_layout = go.Layout(\n",
    "        xaxis={\"type\": \"category\"},  # tipo do eixo X definido como categoria\n",
    "        title='Número Total de Pedidos por Mês',  # título do gráfico\n",
    "        width=900,  # largura do gráfico\n",
    "        height=500  # altura do gráfico\n",
    "    )\n",
    "\n",
    "fig_404 = go.Figure(data=plot_data, layout=plot_layout)  # cria a figura com os dados e o layout do gráfico\n",
    "fig_404.show()  # exibe o gráfico\n",
    "\n",
    "# Salvando o gráfico como uma imagem PNG\n",
    "fig_404.write_image('C:/Users/Rubeus/Documents/tcc/images/fig_404.png', width=1200, height=600, scale=3)"
   ]
  },
  {
   "cell_type": "markdown",
   "id": "3ed9410e-a2d8-481c-8fb6-3446430809ee",
   "metadata": {},
   "source": [
    "* A quantidade total de pedidos por mês mostrou um crescimento entre dezembro de 2016 e novembro de 2017, mas depois permaneceu praticamente estável até agosto de 2018."
   ]
  },
  {
   "cell_type": "code",
   "execution_count": null,
   "id": "f938a599-59a5-426d-a0a5-c5179274346f",
   "metadata": {},
   "outputs": [],
   "source": [
    "# criar um novo DataFrame para a receita média, calculando a média\n",
    "orders_monthly_order_avg = orders.groupby('InvoiceYearMonth')['Revenue'].mean().reset_index()\n",
    "\n",
    "orders_monthly_order_avg.head()"
   ]
  },
  {
   "cell_type": "code",
   "execution_count": null,
   "id": "939bbb74-603a-4b7f-b3d0-c69182ea8455",
   "metadata": {},
   "outputs": [],
   "source": [
    "# plotar o gráfico de barras\n",
    "plot_data = [\n",
    "    go.Bar(\n",
    "        x=orders_monthly_order_avg['InvoiceYearMonth'],\n",
    "        y=orders_monthly_order_avg['Revenue'],\n",
    "    )\n",
    "]\n",
    "\n",
    "plot_layout = go.Layout(\n",
    "        xaxis={\"type\": \"category\"},\n",
    "        title='Valores Médios de Pedidos Mensais', width=900, height=500\n",
    "    )\n",
    "fig_405 = go.Figure(data=plot_data, layout=plot_layout)\n",
    "fig_405.show()\n",
    "\n",
    "# Salvando o gráfico como uma imagem PNG\n",
    "fig_405.write_image('C:/Users/Rubeus/Documents/tcc/images/fig_405.png', width=1200, height=600, scale=3)"
   ]
  },
  {
   "cell_type": "markdown",
   "id": "1c616f64-ad69-4e4a-9da4-b6298d7f1075",
   "metadata": {},
   "source": [
    "* Com exceção de dezembro de 2016, os valores médios dos pedidos ficaram praticamente estáveis em torno de 130. Isso sugere que o comportamento de compra dos clientes não mudou muito, e os itens mais caros na plataforma não influenciaram de forma significativa nas vendas ou no valor médio dos pedidos."
   ]
  },
  {
   "cell_type": "markdown",
   "id": "9f6ffd7f-2739-4520-86fb-908a1e090eb2",
   "metadata": {},
   "source": [
    "#### 4.6 Clientes Novos vs. Clientes Existentes"
   ]
  },
  {
   "cell_type": "code",
   "execution_count": 68,
   "id": "f197c80f-f7ea-4e13-bb2c-992c195d32b0",
   "metadata": {},
   "outputs": [],
   "source": [
    "# Cria um DataFrame contendo o ID do cliente e a data da primeira compra\n",
    "orders_min_purchase = orders.groupby('customer_unique_id').order_purchase_timestamp.min().reset_index()\n",
    "orders_min_purchase.columns = ['customer_unique_id','MinPurchaseDate']\n",
    "orders_min_purchase['MinPurchaseYearMonth'] = orders_min_purchase['MinPurchaseDate'].map(lambda date: 100*date.year + date.month)\n",
    "\n",
    "# Mescla a coluna da primeira data de compra com nosso DataFrame principal\n",
    "orders = pd.merge(orders, orders_min_purchase, on='customer_unique_id')"
   ]
  },
  {
   "cell_type": "code",
   "execution_count": null,
   "id": "853e207f-8faa-429b-9a76-4e1527591c5a",
   "metadata": {},
   "outputs": [],
   "source": [
    "orders.head()"
   ]
  },
  {
   "cell_type": "code",
   "execution_count": null,
   "id": "d860b52b-82d2-48c9-a599-d3113ff07b91",
   "metadata": {
    "scrolled": true
   },
   "outputs": [],
   "source": [
    "import pandas as pd\n",
    "\n",
    "# Supondo que 'orders' já esteja carregado com os dados fornecidos\n",
    "\n",
    "# Passo 1: Garantir que as colunas de data estejam corretamente formatadas\n",
    "orders['order_purchase_timestamp'] = pd.to_datetime(orders['order_purchase_timestamp'])\n",
    "\n",
    "# Passo 2: Criar a coluna InvoiceYearMonth com ano e mês das compras\n",
    "orders['InvoiceYearMonth'] = orders['order_purchase_timestamp'].dt.to_period('M')\n",
    "\n",
    "# Passo 3: Identificar a primeira compra de cada cliente\n",
    "# Vamos usar a coluna 'MinPurchaseDate' e garantir que seja a primeira compra de cada cliente\n",
    "orders_min_purchase = orders.groupby('customer_unique_id')['MinPurchaseDate'].min().reset_index()\n",
    "orders_min_purchase.columns = ['customer_unique_id', 'FirstPurchaseDate']\n",
    "\n",
    "# Passo 4: Extrair o mês e ano da primeira compra para comparar com o mês e ano da compra atual\n",
    "orders_min_purchase['FirstPurchaseYearMonth'] = orders_min_purchase['FirstPurchaseDate'].dt.to_period('M')\n",
    "\n",
    "# Passo 5: Mesclar a data da primeira compra com o DataFrame original\n",
    "orders = pd.merge(orders, orders_min_purchase[['customer_unique_id', 'FirstPurchaseYearMonth']], on='customer_unique_id', how='left')\n",
    "\n",
    "# Passo 6: Classificar os clientes como \"New\" ou \"Existing\"\n",
    "orders['UserType'] = 'Existing'  # Inicialmente, marcamos todos como 'Existing'\n",
    "orders.loc[orders['InvoiceYearMonth'] == orders['FirstPurchaseYearMonth'], 'UserType'] = 'New'\n",
    "\n",
    "# Passo 7: Exibir os resultados\n",
    "# Mostrar uma amostra do DataFrame com a classificação de novos e existentes\n",
    "print(orders[['customer_unique_id', 'order_purchase_timestamp', 'InvoiceYearMonth', 'FirstPurchaseYearMonth', 'UserType']].head())\n"
   ]
  },
  {
   "cell_type": "code",
   "execution_count": null,
   "id": "59738c6e-f2a3-4b6e-830b-9a1a4cc5cedd",
   "metadata": {
    "scrolled": true
   },
   "outputs": [],
   "source": [
    "# Passo 1: Converter 'InvoiceYearMonth' para string\n",
    "orders['InvoiceYearMonth'] = orders['InvoiceYearMonth'].astype(str)\n",
    "\n",
    "# Passo 2: Agrupar os dados por mês e tipo de cliente (New ou Existing)\n",
    "customer_counts = orders.groupby(['InvoiceYearMonth', 'UserType'])['customer_unique_id'].nunique().reset_index()\n",
    "\n",
    "# Passo 3: Criar o gráfico com Plotly\n",
    "fig = px.line(customer_counts, \n",
    "              x='InvoiceYearMonth', \n",
    "              y='customer_unique_id', \n",
    "              color='UserType', \n",
    "              title='Variação de Clientes Novos e Existentes ao Longo do Tempo', \n",
    "              labels={'InvoiceYearMonth': 'Mês da Compra', 'customer_unique_id': 'Número de Clientes'},\n",
    "              markers=True)\n",
    "\n",
    "# Passo 4: Exibir o gráfico\n",
    "fig.show()\n",
    "\n",
    "fig.write_image('C:/Users/Rubeus/Documents/tcc/images/fig_novos.png', width=1200, height=600, scale=3)"
   ]
  },
  {
   "cell_type": "code",
   "execution_count": null,
   "id": "ed4101b6-45a6-4b77-95f4-021f7778a9f0",
   "metadata": {
    "scrolled": true
   },
   "outputs": [],
   "source": [
    "orders.UserType.value_counts()"
   ]
  },
  {
   "cell_type": "code",
   "execution_count": null,
   "id": "68392ca9-4237-4871-b888-44bba55aa658",
   "metadata": {},
   "outputs": [],
   "source": [
    "import pandas as pd\n",
    "\n",
    "# Passo 1: Agrupar os dados por mês e tipo de cliente (New ou Existing)\n",
    "customer_counts = orders.groupby(['InvoiceYearMonth', 'UserType'])['customer_unique_id'].nunique().reset_index()\n",
    "\n",
    "# Passo 2: Exibir a tabela no formato pandas\n",
    "print(customer_counts)\n",
    "\n",
    "# Passo 3: Exibir os resultados como texto formatado (opcional)\n",
    "text_result = customer_counts.to_string(index=False)\n",
    "print(\"\\nTabela de Resultados em Texto:\\n\")\n",
    "print(text_result)\n"
   ]
  },
  {
   "cell_type": "markdown",
   "id": "99aa8522-2e5b-440f-a632-d320ae713a62",
   "metadata": {},
   "source": [
    "* O número de novos clientes cresceu continuamente de janeiro a novembro de 2017, o que também levou a um aumento no número de pedidos mensais.\n",
    "\n",
    "* A taxa de crescimento dos clientes recorrentes é quase nula, com transações de clientes recorrentes também baixas, **indicando uma alta taxa de churn de clientes**. Esse é um sinal crucial para o negócio, pois sugere que os clientes não estão dispostos a retornar à plataforma, o que pode resultar em perda de negócios no longo prazo."
   ]
  }
 ],
 "metadata": {
  "kernelspec": {
   "display_name": "Python 3",
   "language": "python",
   "name": "python3"
  },
  "language_info": {
   "codemirror_mode": {
    "name": "ipython",
    "version": 3
   },
   "file_extension": ".py",
   "mimetype": "text/x-python",
   "name": "python",
   "nbconvert_exporter": "python",
   "pygments_lexer": "ipython3",
   "version": "3.12.4"
  },
  "widgets": {
   "application/vnd.jupyter.widget-state+json": {
    "state": {},
    "version_major": 2,
    "version_minor": 0
   }
  }
 },
 "nbformat": 4,
 "nbformat_minor": 5
}
